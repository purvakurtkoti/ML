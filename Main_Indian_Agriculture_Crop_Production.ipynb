{
  "nbformat": 4,
  "nbformat_minor": 0,
  "metadata": {
    "colab": {
      "provenance": [],
      "toc_visible": true
    },
    "kernelspec": {
      "name": "python3",
      "display_name": "Python 3"
    },
    "language_info": {
      "name": "python"
    }
  },
  "cells": [
    {
      "cell_type": "markdown",
      "source": [
        "1. State - Indian state for which record exists\n",
        "2. District - District of specific Indian state in record\n",
        "3. Crop - Crop for which production is recorded\n",
        "4. Year - Year of specific record\n",
        "5. Season - Agriculture season. There are many agriculture seasons in India.\n",
        "6. Production Units - Tonnes (measurement 100 KG = 1 Ton)\n",
        "7. Yeild - Crop yields are the harvested production per unit of harvested area for crop products."
      ],
      "metadata": {
        "id": "WeRtwRyyr5Ot"
      }
    },
    {
      "cell_type": "code",
      "source": [
        "from google.colab import drive\n",
        "drive.mount('/content/drive')"
      ],
      "metadata": {
        "colab": {
          "base_uri": "https://localhost:8080/"
        },
        "id": "MbNDyjMvqstC",
        "outputId": "1fa23d51-6c60-46b3-abe2-b0d1044c682a"
      },
      "execution_count": null,
      "outputs": [
        {
          "output_type": "stream",
          "name": "stdout",
          "text": [
            "Mounted at /content/drive\n"
          ]
        }
      ]
    },
    {
      "cell_type": "markdown",
      "source": [
        "## Importing libraries"
      ],
      "metadata": {
        "id": "-TKCI2iMvfpG"
      }
    },
    {
      "cell_type": "code",
      "source": [
        "# Data Analysis & Calculation\n",
        "import pandas as pd\n",
        "import numpy as np\n",
        "# Data Visualization\n",
        "import matplotlib.pyplot as plt\n",
        "import seaborn as sns\n",
        "# Import label encoder \n",
        "from sklearn import preprocessing\n",
        "# for calculating Z-Score\n",
        "import scipy.stats as stats\n",
        "# Machine Learning Algorithms\n",
        "from sklearn.linear_model import LinearRegression\n",
        "from sklearn.ensemble import RandomForestRegressor\n",
        "# Accuracy : r2\n",
        "from sklearn.metrics import r2_score\n",
        "\n"
      ],
      "metadata": {
        "id": "TINq9CJ1qvu1"
      },
      "execution_count": null,
      "outputs": []
    },
    {
      "cell_type": "markdown",
      "source": [
        "## Loading DataSet"
      ],
      "metadata": {
        "id": "JPlP5AJOvlHg"
      }
    },
    {
      "cell_type": "code",
      "source": [
        "data = pd.read_csv('/content/drive/MyDrive/Projects/DataSets/India Agriculture Crop Production.csv')"
      ],
      "metadata": {
        "id": "MdQLbdrrqvyx"
      },
      "execution_count": null,
      "outputs": []
    },
    {
      "cell_type": "code",
      "source": [
        "data"
      ],
      "metadata": {
        "colab": {
          "base_uri": "https://localhost:8080/",
          "height": 658
        },
        "id": "SvBVC-Fsqv5y",
        "outputId": "d33fe031-f5c9-46c0-bb7e-ca1ef58c6515"
      },
      "execution_count": null,
      "outputs": [
        {
          "output_type": "execute_result",
          "data": {
            "text/plain": [
              "                              State                  District      Crop  \\\n",
              "0       Andaman and Nicobar Islands                  NICOBARS  Arecanut   \n",
              "1       Andaman and Nicobar Islands                  NICOBARS  Arecanut   \n",
              "2       Andaman and Nicobar Islands                  NICOBARS  Arecanut   \n",
              "3       Andaman and Nicobar Islands  NORTH AND MIDDLE ANDAMAN  Arecanut   \n",
              "4       Andaman and Nicobar Islands            SOUTH ANDAMANS  Arecanut   \n",
              "...                             ...                       ...       ...   \n",
              "344203                      Manipur               IMPHAL WEST       NaN   \n",
              "344204                      Manipur                  SENAPATI       NaN   \n",
              "344205                      Manipur                TAMENGLONG       NaN   \n",
              "344206                      Manipur                   THOUBAL       NaN   \n",
              "344207                      Manipur                    UKHRUL       NaN   \n",
              "\n",
              "           Year      Season    Area Area Units  Production Production Units  \\\n",
              "0       2001-02      Kharif  1254.0    Hectare      2061.0           Tonnes   \n",
              "1       2002-03  Whole Year  1258.0    Hectare      2083.0           Tonnes   \n",
              "2       2003-04  Whole Year  1261.0    Hectare      1525.0           Tonnes   \n",
              "3       2001-02      Kharif  3100.0    Hectare      5239.0           Tonnes   \n",
              "4       2002-03  Whole Year  3105.0    Hectare      5267.0           Tonnes   \n",
              "...         ...         ...     ...        ...         ...              ...   \n",
              "344203  2019-20        Rabi     NaN    Hectare         NaN           Tonnes   \n",
              "344204  2019-20        Rabi     NaN    Hectare         NaN           Tonnes   \n",
              "344205  2019-20        Rabi     NaN    Hectare         NaN           Tonnes   \n",
              "344206  2019-20        Rabi     NaN    Hectare         NaN           Tonnes   \n",
              "344207  2019-20        Rabi     NaN    Hectare         NaN           Tonnes   \n",
              "\n",
              "           Yield  \n",
              "0       1.643541  \n",
              "1       1.655803  \n",
              "2       1.209358  \n",
              "3       1.690000  \n",
              "4       1.696296  \n",
              "...          ...  \n",
              "344203       NaN  \n",
              "344204       NaN  \n",
              "344205       NaN  \n",
              "344206       NaN  \n",
              "344207       NaN  \n",
              "\n",
              "[344208 rows x 10 columns]"
            ],
            "text/html": [
              "\n",
              "  <div id=\"df-eb16da0d-9cfb-4848-9449-4c3066c43d6f\">\n",
              "    <div class=\"colab-df-container\">\n",
              "      <div>\n",
              "<style scoped>\n",
              "    .dataframe tbody tr th:only-of-type {\n",
              "        vertical-align: middle;\n",
              "    }\n",
              "\n",
              "    .dataframe tbody tr th {\n",
              "        vertical-align: top;\n",
              "    }\n",
              "\n",
              "    .dataframe thead th {\n",
              "        text-align: right;\n",
              "    }\n",
              "</style>\n",
              "<table border=\"1\" class=\"dataframe\">\n",
              "  <thead>\n",
              "    <tr style=\"text-align: right;\">\n",
              "      <th></th>\n",
              "      <th>State</th>\n",
              "      <th>District</th>\n",
              "      <th>Crop</th>\n",
              "      <th>Year</th>\n",
              "      <th>Season</th>\n",
              "      <th>Area</th>\n",
              "      <th>Area Units</th>\n",
              "      <th>Production</th>\n",
              "      <th>Production Units</th>\n",
              "      <th>Yield</th>\n",
              "    </tr>\n",
              "  </thead>\n",
              "  <tbody>\n",
              "    <tr>\n",
              "      <th>0</th>\n",
              "      <td>Andaman and Nicobar Islands</td>\n",
              "      <td>NICOBARS</td>\n",
              "      <td>Arecanut</td>\n",
              "      <td>2001-02</td>\n",
              "      <td>Kharif</td>\n",
              "      <td>1254.0</td>\n",
              "      <td>Hectare</td>\n",
              "      <td>2061.0</td>\n",
              "      <td>Tonnes</td>\n",
              "      <td>1.643541</td>\n",
              "    </tr>\n",
              "    <tr>\n",
              "      <th>1</th>\n",
              "      <td>Andaman and Nicobar Islands</td>\n",
              "      <td>NICOBARS</td>\n",
              "      <td>Arecanut</td>\n",
              "      <td>2002-03</td>\n",
              "      <td>Whole Year</td>\n",
              "      <td>1258.0</td>\n",
              "      <td>Hectare</td>\n",
              "      <td>2083.0</td>\n",
              "      <td>Tonnes</td>\n",
              "      <td>1.655803</td>\n",
              "    </tr>\n",
              "    <tr>\n",
              "      <th>2</th>\n",
              "      <td>Andaman and Nicobar Islands</td>\n",
              "      <td>NICOBARS</td>\n",
              "      <td>Arecanut</td>\n",
              "      <td>2003-04</td>\n",
              "      <td>Whole Year</td>\n",
              "      <td>1261.0</td>\n",
              "      <td>Hectare</td>\n",
              "      <td>1525.0</td>\n",
              "      <td>Tonnes</td>\n",
              "      <td>1.209358</td>\n",
              "    </tr>\n",
              "    <tr>\n",
              "      <th>3</th>\n",
              "      <td>Andaman and Nicobar Islands</td>\n",
              "      <td>NORTH AND MIDDLE ANDAMAN</td>\n",
              "      <td>Arecanut</td>\n",
              "      <td>2001-02</td>\n",
              "      <td>Kharif</td>\n",
              "      <td>3100.0</td>\n",
              "      <td>Hectare</td>\n",
              "      <td>5239.0</td>\n",
              "      <td>Tonnes</td>\n",
              "      <td>1.690000</td>\n",
              "    </tr>\n",
              "    <tr>\n",
              "      <th>4</th>\n",
              "      <td>Andaman and Nicobar Islands</td>\n",
              "      <td>SOUTH ANDAMANS</td>\n",
              "      <td>Arecanut</td>\n",
              "      <td>2002-03</td>\n",
              "      <td>Whole Year</td>\n",
              "      <td>3105.0</td>\n",
              "      <td>Hectare</td>\n",
              "      <td>5267.0</td>\n",
              "      <td>Tonnes</td>\n",
              "      <td>1.696296</td>\n",
              "    </tr>\n",
              "    <tr>\n",
              "      <th>...</th>\n",
              "      <td>...</td>\n",
              "      <td>...</td>\n",
              "      <td>...</td>\n",
              "      <td>...</td>\n",
              "      <td>...</td>\n",
              "      <td>...</td>\n",
              "      <td>...</td>\n",
              "      <td>...</td>\n",
              "      <td>...</td>\n",
              "      <td>...</td>\n",
              "    </tr>\n",
              "    <tr>\n",
              "      <th>344203</th>\n",
              "      <td>Manipur</td>\n",
              "      <td>IMPHAL WEST</td>\n",
              "      <td>NaN</td>\n",
              "      <td>2019-20</td>\n",
              "      <td>Rabi</td>\n",
              "      <td>NaN</td>\n",
              "      <td>Hectare</td>\n",
              "      <td>NaN</td>\n",
              "      <td>Tonnes</td>\n",
              "      <td>NaN</td>\n",
              "    </tr>\n",
              "    <tr>\n",
              "      <th>344204</th>\n",
              "      <td>Manipur</td>\n",
              "      <td>SENAPATI</td>\n",
              "      <td>NaN</td>\n",
              "      <td>2019-20</td>\n",
              "      <td>Rabi</td>\n",
              "      <td>NaN</td>\n",
              "      <td>Hectare</td>\n",
              "      <td>NaN</td>\n",
              "      <td>Tonnes</td>\n",
              "      <td>NaN</td>\n",
              "    </tr>\n",
              "    <tr>\n",
              "      <th>344205</th>\n",
              "      <td>Manipur</td>\n",
              "      <td>TAMENGLONG</td>\n",
              "      <td>NaN</td>\n",
              "      <td>2019-20</td>\n",
              "      <td>Rabi</td>\n",
              "      <td>NaN</td>\n",
              "      <td>Hectare</td>\n",
              "      <td>NaN</td>\n",
              "      <td>Tonnes</td>\n",
              "      <td>NaN</td>\n",
              "    </tr>\n",
              "    <tr>\n",
              "      <th>344206</th>\n",
              "      <td>Manipur</td>\n",
              "      <td>THOUBAL</td>\n",
              "      <td>NaN</td>\n",
              "      <td>2019-20</td>\n",
              "      <td>Rabi</td>\n",
              "      <td>NaN</td>\n",
              "      <td>Hectare</td>\n",
              "      <td>NaN</td>\n",
              "      <td>Tonnes</td>\n",
              "      <td>NaN</td>\n",
              "    </tr>\n",
              "    <tr>\n",
              "      <th>344207</th>\n",
              "      <td>Manipur</td>\n",
              "      <td>UKHRUL</td>\n",
              "      <td>NaN</td>\n",
              "      <td>2019-20</td>\n",
              "      <td>Rabi</td>\n",
              "      <td>NaN</td>\n",
              "      <td>Hectare</td>\n",
              "      <td>NaN</td>\n",
              "      <td>Tonnes</td>\n",
              "      <td>NaN</td>\n",
              "    </tr>\n",
              "  </tbody>\n",
              "</table>\n",
              "<p>344208 rows × 10 columns</p>\n",
              "</div>\n",
              "      <button class=\"colab-df-convert\" onclick=\"convertToInteractive('df-eb16da0d-9cfb-4848-9449-4c3066c43d6f')\"\n",
              "              title=\"Convert this dataframe to an interactive table.\"\n",
              "              style=\"display:none;\">\n",
              "        \n",
              "  <svg xmlns=\"http://www.w3.org/2000/svg\" height=\"24px\"viewBox=\"0 0 24 24\"\n",
              "       width=\"24px\">\n",
              "    <path d=\"M0 0h24v24H0V0z\" fill=\"none\"/>\n",
              "    <path d=\"M18.56 5.44l.94 2.06.94-2.06 2.06-.94-2.06-.94-.94-2.06-.94 2.06-2.06.94zm-11 1L8.5 8.5l.94-2.06 2.06-.94-2.06-.94L8.5 2.5l-.94 2.06-2.06.94zm10 10l.94 2.06.94-2.06 2.06-.94-2.06-.94-.94-2.06-.94 2.06-2.06.94z\"/><path d=\"M17.41 7.96l-1.37-1.37c-.4-.4-.92-.59-1.43-.59-.52 0-1.04.2-1.43.59L10.3 9.45l-7.72 7.72c-.78.78-.78 2.05 0 2.83L4 21.41c.39.39.9.59 1.41.59.51 0 1.02-.2 1.41-.59l7.78-7.78 2.81-2.81c.8-.78.8-2.07 0-2.86zM5.41 20L4 18.59l7.72-7.72 1.47 1.35L5.41 20z\"/>\n",
              "  </svg>\n",
              "      </button>\n",
              "      \n",
              "  <style>\n",
              "    .colab-df-container {\n",
              "      display:flex;\n",
              "      flex-wrap:wrap;\n",
              "      gap: 12px;\n",
              "    }\n",
              "\n",
              "    .colab-df-convert {\n",
              "      background-color: #E8F0FE;\n",
              "      border: none;\n",
              "      border-radius: 50%;\n",
              "      cursor: pointer;\n",
              "      display: none;\n",
              "      fill: #1967D2;\n",
              "      height: 32px;\n",
              "      padding: 0 0 0 0;\n",
              "      width: 32px;\n",
              "    }\n",
              "\n",
              "    .colab-df-convert:hover {\n",
              "      background-color: #E2EBFA;\n",
              "      box-shadow: 0px 1px 2px rgba(60, 64, 67, 0.3), 0px 1px 3px 1px rgba(60, 64, 67, 0.15);\n",
              "      fill: #174EA6;\n",
              "    }\n",
              "\n",
              "    [theme=dark] .colab-df-convert {\n",
              "      background-color: #3B4455;\n",
              "      fill: #D2E3FC;\n",
              "    }\n",
              "\n",
              "    [theme=dark] .colab-df-convert:hover {\n",
              "      background-color: #434B5C;\n",
              "      box-shadow: 0px 1px 3px 1px rgba(0, 0, 0, 0.15);\n",
              "      filter: drop-shadow(0px 1px 2px rgba(0, 0, 0, 0.3));\n",
              "      fill: #FFFFFF;\n",
              "    }\n",
              "  </style>\n",
              "\n",
              "      <script>\n",
              "        const buttonEl =\n",
              "          document.querySelector('#df-eb16da0d-9cfb-4848-9449-4c3066c43d6f button.colab-df-convert');\n",
              "        buttonEl.style.display =\n",
              "          google.colab.kernel.accessAllowed ? 'block' : 'none';\n",
              "\n",
              "        async function convertToInteractive(key) {\n",
              "          const element = document.querySelector('#df-eb16da0d-9cfb-4848-9449-4c3066c43d6f');\n",
              "          const dataTable =\n",
              "            await google.colab.kernel.invokeFunction('convertToInteractive',\n",
              "                                                     [key], {});\n",
              "          if (!dataTable) return;\n",
              "\n",
              "          const docLinkHtml = 'Like what you see? Visit the ' +\n",
              "            '<a target=\"_blank\" href=https://colab.research.google.com/notebooks/data_table.ipynb>data table notebook</a>'\n",
              "            + ' to learn more about interactive tables.';\n",
              "          element.innerHTML = '';\n",
              "          dataTable['output_type'] = 'display_data';\n",
              "          await google.colab.output.renderOutput(dataTable, element);\n",
              "          const docLink = document.createElement('div');\n",
              "          docLink.innerHTML = docLinkHtml;\n",
              "          element.appendChild(docLink);\n",
              "        }\n",
              "      </script>\n",
              "    </div>\n",
              "  </div>\n",
              "  "
            ]
          },
          "metadata": {},
          "execution_count": 79
        }
      ]
    },
    {
      "cell_type": "code",
      "execution_count": null,
      "metadata": {
        "colab": {
          "base_uri": "https://localhost:8080/"
        },
        "id": "71koUFNzqlEB",
        "outputId": "3b22d418-43b9-47d6-9625-ee365f4c69e2"
      },
      "outputs": [
        {
          "output_type": "execute_result",
          "data": {
            "text/plain": [
              "(344208, 10)"
            ]
          },
          "metadata": {},
          "execution_count": 80
        }
      ],
      "source": [
        "# Checking Shape of dataset\n",
        "data.shape"
      ]
    },
    {
      "cell_type": "code",
      "source": [
        "# Checking size of dataset\n",
        "data.size"
      ],
      "metadata": {
        "colab": {
          "base_uri": "https://localhost:8080/"
        },
        "id": "NnuYjB6IrOld",
        "outputId": "377f78a7-3d30-4b7b-9b69-8d14812a3648"
      },
      "execution_count": null,
      "outputs": [
        {
          "output_type": "execute_result",
          "data": {
            "text/plain": [
              "3442080"
            ]
          },
          "metadata": {},
          "execution_count": 81
        }
      ]
    },
    {
      "cell_type": "code",
      "source": [
        "# checking for null values\n",
        "data.isnull().sum()"
      ],
      "metadata": {
        "colab": {
          "base_uri": "https://localhost:8080/"
        },
        "id": "KGQwzdAhEHfI",
        "outputId": "5886e083-561f-453b-ccce-4c8e3539fd26"
      },
      "execution_count": null,
      "outputs": [
        {
          "output_type": "execute_result",
          "data": {
            "text/plain": [
              "State                  0\n",
              "District               0\n",
              "Crop                 109\n",
              "Year                   0\n",
              "Season                 0\n",
              "Area                 109\n",
              "Area Units             0\n",
              "Production          5021\n",
              "Production Units       0\n",
              "Yield                109\n",
              "dtype: int64"
            ]
          },
          "metadata": {},
          "execution_count": 82
        }
      ]
    },
    {
      "cell_type": "markdown",
      "source": [
        "- Crop, Area Production and Yield contains null values "
      ],
      "metadata": {
        "id": "yewkELra67Nb"
      }
    },
    {
      "cell_type": "code",
      "source": [
        "# understanding column names\n",
        "data.columns"
      ],
      "metadata": {
        "colab": {
          "base_uri": "https://localhost:8080/"
        },
        "id": "fQcLtkxvrPd1",
        "outputId": "494d623f-b516-4d0b-bcec-7d8ee47fad5b"
      },
      "execution_count": null,
      "outputs": [
        {
          "output_type": "execute_result",
          "data": {
            "text/plain": [
              "Index(['State', 'District', 'Crop', 'Year', 'Season', 'Area', 'Area Units',\n",
              "       'Production', 'Production Units', 'Yield'],\n",
              "      dtype='object')"
            ]
          },
          "metadata": {},
          "execution_count": 83
        }
      ]
    },
    {
      "cell_type": "code",
      "source": [
        "# checking data types of columns\n",
        "data.dtypes"
      ],
      "metadata": {
        "colab": {
          "base_uri": "https://localhost:8080/"
        },
        "id": "Qivjw6NurRqD",
        "outputId": "93910b8c-e214-49ea-edbe-3ac0ad1625b5"
      },
      "execution_count": null,
      "outputs": [
        {
          "output_type": "execute_result",
          "data": {
            "text/plain": [
              "State                object\n",
              "District             object\n",
              "Crop                 object\n",
              "Year                 object\n",
              "Season               object\n",
              "Area                float64\n",
              "Area Units           object\n",
              "Production          float64\n",
              "Production Units     object\n",
              "Yield               float64\n",
              "dtype: object"
            ]
          },
          "metadata": {},
          "execution_count": 84
        }
      ]
    },
    {
      "cell_type": "code",
      "source": [
        "data.info()"
      ],
      "metadata": {
        "colab": {
          "base_uri": "https://localhost:8080/"
        },
        "id": "uvV99E6-rWMN",
        "outputId": "ffedeebb-7fe4-4bcb-8ef5-e094d8f64dc7"
      },
      "execution_count": null,
      "outputs": [
        {
          "output_type": "stream",
          "name": "stdout",
          "text": [
            "<class 'pandas.core.frame.DataFrame'>\n",
            "RangeIndex: 344208 entries, 0 to 344207\n",
            "Data columns (total 10 columns):\n",
            " #   Column            Non-Null Count   Dtype  \n",
            "---  ------            --------------   -----  \n",
            " 0   State             344208 non-null  object \n",
            " 1   District          344208 non-null  object \n",
            " 2   Crop              344099 non-null  object \n",
            " 3   Year              344208 non-null  object \n",
            " 4   Season            344208 non-null  object \n",
            " 5   Area              344099 non-null  float64\n",
            " 6   Area Units        344208 non-null  object \n",
            " 7   Production        339187 non-null  float64\n",
            " 8   Production Units  344208 non-null  object \n",
            " 9   Yield             344099 non-null  float64\n",
            "dtypes: float64(3), object(7)\n",
            "memory usage: 26.3+ MB\n"
          ]
        }
      ]
    },
    {
      "cell_type": "markdown",
      "source": [
        "- only 3 columns contain numerical data (Area, Production and Yield) rest are categorical columns"
      ],
      "metadata": {
        "id": "oc-H4zkV7sJM"
      }
    },
    {
      "cell_type": "code",
      "source": [
        "# Getting statistical information of numerical columns of a dataset\n",
        "data.describe().T"
      ],
      "metadata": {
        "colab": {
          "base_uri": "https://localhost:8080/",
          "height": 143
        },
        "id": "zU4ZyS0Esa_h",
        "outputId": "6426b67b-f5f4-4aed-f207-dd0213d000b8"
      },
      "execution_count": null,
      "outputs": [
        {
          "output_type": "execute_result",
          "data": {
            "text/plain": [
              "               count           mean           std    min        25%    50%  \\\n",
              "Area        344099.0   11694.401244  4.589432e+04  0.004  75.000000  536.0   \n",
              "Production  339187.0  961757.793407  2.156868e+07  0.000  88.000000  721.0   \n",
              "Yield       344099.0      79.687192  9.183136e+02  0.000   0.548261    1.0   \n",
              "\n",
              "                    75%           max  \n",
              "Area        4133.000000  8.580100e+06  \n",
              "Production  7208.000000  1.597800e+09  \n",
              "Yield          2.469699  4.395833e+04  "
            ],
            "text/html": [
              "\n",
              "  <div id=\"df-f6d27e7a-b9e5-49d3-a989-69e806e2185e\">\n",
              "    <div class=\"colab-df-container\">\n",
              "      <div>\n",
              "<style scoped>\n",
              "    .dataframe tbody tr th:only-of-type {\n",
              "        vertical-align: middle;\n",
              "    }\n",
              "\n",
              "    .dataframe tbody tr th {\n",
              "        vertical-align: top;\n",
              "    }\n",
              "\n",
              "    .dataframe thead th {\n",
              "        text-align: right;\n",
              "    }\n",
              "</style>\n",
              "<table border=\"1\" class=\"dataframe\">\n",
              "  <thead>\n",
              "    <tr style=\"text-align: right;\">\n",
              "      <th></th>\n",
              "      <th>count</th>\n",
              "      <th>mean</th>\n",
              "      <th>std</th>\n",
              "      <th>min</th>\n",
              "      <th>25%</th>\n",
              "      <th>50%</th>\n",
              "      <th>75%</th>\n",
              "      <th>max</th>\n",
              "    </tr>\n",
              "  </thead>\n",
              "  <tbody>\n",
              "    <tr>\n",
              "      <th>Area</th>\n",
              "      <td>344099.0</td>\n",
              "      <td>11694.401244</td>\n",
              "      <td>4.589432e+04</td>\n",
              "      <td>0.004</td>\n",
              "      <td>75.000000</td>\n",
              "      <td>536.0</td>\n",
              "      <td>4133.000000</td>\n",
              "      <td>8.580100e+06</td>\n",
              "    </tr>\n",
              "    <tr>\n",
              "      <th>Production</th>\n",
              "      <td>339187.0</td>\n",
              "      <td>961757.793407</td>\n",
              "      <td>2.156868e+07</td>\n",
              "      <td>0.000</td>\n",
              "      <td>88.000000</td>\n",
              "      <td>721.0</td>\n",
              "      <td>7208.000000</td>\n",
              "      <td>1.597800e+09</td>\n",
              "    </tr>\n",
              "    <tr>\n",
              "      <th>Yield</th>\n",
              "      <td>344099.0</td>\n",
              "      <td>79.687192</td>\n",
              "      <td>9.183136e+02</td>\n",
              "      <td>0.000</td>\n",
              "      <td>0.548261</td>\n",
              "      <td>1.0</td>\n",
              "      <td>2.469699</td>\n",
              "      <td>4.395833e+04</td>\n",
              "    </tr>\n",
              "  </tbody>\n",
              "</table>\n",
              "</div>\n",
              "      <button class=\"colab-df-convert\" onclick=\"convertToInteractive('df-f6d27e7a-b9e5-49d3-a989-69e806e2185e')\"\n",
              "              title=\"Convert this dataframe to an interactive table.\"\n",
              "              style=\"display:none;\">\n",
              "        \n",
              "  <svg xmlns=\"http://www.w3.org/2000/svg\" height=\"24px\"viewBox=\"0 0 24 24\"\n",
              "       width=\"24px\">\n",
              "    <path d=\"M0 0h24v24H0V0z\" fill=\"none\"/>\n",
              "    <path d=\"M18.56 5.44l.94 2.06.94-2.06 2.06-.94-2.06-.94-.94-2.06-.94 2.06-2.06.94zm-11 1L8.5 8.5l.94-2.06 2.06-.94-2.06-.94L8.5 2.5l-.94 2.06-2.06.94zm10 10l.94 2.06.94-2.06 2.06-.94-2.06-.94-.94-2.06-.94 2.06-2.06.94z\"/><path d=\"M17.41 7.96l-1.37-1.37c-.4-.4-.92-.59-1.43-.59-.52 0-1.04.2-1.43.59L10.3 9.45l-7.72 7.72c-.78.78-.78 2.05 0 2.83L4 21.41c.39.39.9.59 1.41.59.51 0 1.02-.2 1.41-.59l7.78-7.78 2.81-2.81c.8-.78.8-2.07 0-2.86zM5.41 20L4 18.59l7.72-7.72 1.47 1.35L5.41 20z\"/>\n",
              "  </svg>\n",
              "      </button>\n",
              "      \n",
              "  <style>\n",
              "    .colab-df-container {\n",
              "      display:flex;\n",
              "      flex-wrap:wrap;\n",
              "      gap: 12px;\n",
              "    }\n",
              "\n",
              "    .colab-df-convert {\n",
              "      background-color: #E8F0FE;\n",
              "      border: none;\n",
              "      border-radius: 50%;\n",
              "      cursor: pointer;\n",
              "      display: none;\n",
              "      fill: #1967D2;\n",
              "      height: 32px;\n",
              "      padding: 0 0 0 0;\n",
              "      width: 32px;\n",
              "    }\n",
              "\n",
              "    .colab-df-convert:hover {\n",
              "      background-color: #E2EBFA;\n",
              "      box-shadow: 0px 1px 2px rgba(60, 64, 67, 0.3), 0px 1px 3px 1px rgba(60, 64, 67, 0.15);\n",
              "      fill: #174EA6;\n",
              "    }\n",
              "\n",
              "    [theme=dark] .colab-df-convert {\n",
              "      background-color: #3B4455;\n",
              "      fill: #D2E3FC;\n",
              "    }\n",
              "\n",
              "    [theme=dark] .colab-df-convert:hover {\n",
              "      background-color: #434B5C;\n",
              "      box-shadow: 0px 1px 3px 1px rgba(0, 0, 0, 0.15);\n",
              "      filter: drop-shadow(0px 1px 2px rgba(0, 0, 0, 0.3));\n",
              "      fill: #FFFFFF;\n",
              "    }\n",
              "  </style>\n",
              "\n",
              "      <script>\n",
              "        const buttonEl =\n",
              "          document.querySelector('#df-f6d27e7a-b9e5-49d3-a989-69e806e2185e button.colab-df-convert');\n",
              "        buttonEl.style.display =\n",
              "          google.colab.kernel.accessAllowed ? 'block' : 'none';\n",
              "\n",
              "        async function convertToInteractive(key) {\n",
              "          const element = document.querySelector('#df-f6d27e7a-b9e5-49d3-a989-69e806e2185e');\n",
              "          const dataTable =\n",
              "            await google.colab.kernel.invokeFunction('convertToInteractive',\n",
              "                                                     [key], {});\n",
              "          if (!dataTable) return;\n",
              "\n",
              "          const docLinkHtml = 'Like what you see? Visit the ' +\n",
              "            '<a target=\"_blank\" href=https://colab.research.google.com/notebooks/data_table.ipynb>data table notebook</a>'\n",
              "            + ' to learn more about interactive tables.';\n",
              "          element.innerHTML = '';\n",
              "          dataTable['output_type'] = 'display_data';\n",
              "          await google.colab.output.renderOutput(dataTable, element);\n",
              "          const docLink = document.createElement('div');\n",
              "          docLink.innerHTML = docLinkHtml;\n",
              "          element.appendChild(docLink);\n",
              "        }\n",
              "      </script>\n",
              "    </div>\n",
              "  </div>\n",
              "  "
            ]
          },
          "metadata": {},
          "execution_count": 86
        }
      ]
    },
    {
      "cell_type": "markdown",
      "source": [
        "## Checking Unique entries and their occurance for all the Categorical Columns"
      ],
      "metadata": {
        "id": "MjxUTJEp74zk"
      }
    },
    {
      "cell_type": "code",
      "source": [
        "data.head(3)"
      ],
      "metadata": {
        "colab": {
          "base_uri": "https://localhost:8080/",
          "height": 143
        },
        "id": "2hbpagk88D2s",
        "outputId": "5bfe518b-f80c-46db-ec0e-65a48a5b2340"
      },
      "execution_count": null,
      "outputs": [
        {
          "output_type": "execute_result",
          "data": {
            "text/plain": [
              "                         State  District      Crop     Year      Season  \\\n",
              "0  Andaman and Nicobar Islands  NICOBARS  Arecanut  2001-02      Kharif   \n",
              "1  Andaman and Nicobar Islands  NICOBARS  Arecanut  2002-03  Whole Year   \n",
              "2  Andaman and Nicobar Islands  NICOBARS  Arecanut  2003-04  Whole Year   \n",
              "\n",
              "     Area Area Units  Production Production Units     Yield  \n",
              "0  1254.0    Hectare      2061.0           Tonnes  1.643541  \n",
              "1  1258.0    Hectare      2083.0           Tonnes  1.655803  \n",
              "2  1261.0    Hectare      1525.0           Tonnes  1.209358  "
            ],
            "text/html": [
              "\n",
              "  <div id=\"df-a24b2482-5916-48d0-9e8e-2de5cf62c89f\">\n",
              "    <div class=\"colab-df-container\">\n",
              "      <div>\n",
              "<style scoped>\n",
              "    .dataframe tbody tr th:only-of-type {\n",
              "        vertical-align: middle;\n",
              "    }\n",
              "\n",
              "    .dataframe tbody tr th {\n",
              "        vertical-align: top;\n",
              "    }\n",
              "\n",
              "    .dataframe thead th {\n",
              "        text-align: right;\n",
              "    }\n",
              "</style>\n",
              "<table border=\"1\" class=\"dataframe\">\n",
              "  <thead>\n",
              "    <tr style=\"text-align: right;\">\n",
              "      <th></th>\n",
              "      <th>State</th>\n",
              "      <th>District</th>\n",
              "      <th>Crop</th>\n",
              "      <th>Year</th>\n",
              "      <th>Season</th>\n",
              "      <th>Area</th>\n",
              "      <th>Area Units</th>\n",
              "      <th>Production</th>\n",
              "      <th>Production Units</th>\n",
              "      <th>Yield</th>\n",
              "    </tr>\n",
              "  </thead>\n",
              "  <tbody>\n",
              "    <tr>\n",
              "      <th>0</th>\n",
              "      <td>Andaman and Nicobar Islands</td>\n",
              "      <td>NICOBARS</td>\n",
              "      <td>Arecanut</td>\n",
              "      <td>2001-02</td>\n",
              "      <td>Kharif</td>\n",
              "      <td>1254.0</td>\n",
              "      <td>Hectare</td>\n",
              "      <td>2061.0</td>\n",
              "      <td>Tonnes</td>\n",
              "      <td>1.643541</td>\n",
              "    </tr>\n",
              "    <tr>\n",
              "      <th>1</th>\n",
              "      <td>Andaman and Nicobar Islands</td>\n",
              "      <td>NICOBARS</td>\n",
              "      <td>Arecanut</td>\n",
              "      <td>2002-03</td>\n",
              "      <td>Whole Year</td>\n",
              "      <td>1258.0</td>\n",
              "      <td>Hectare</td>\n",
              "      <td>2083.0</td>\n",
              "      <td>Tonnes</td>\n",
              "      <td>1.655803</td>\n",
              "    </tr>\n",
              "    <tr>\n",
              "      <th>2</th>\n",
              "      <td>Andaman and Nicobar Islands</td>\n",
              "      <td>NICOBARS</td>\n",
              "      <td>Arecanut</td>\n",
              "      <td>2003-04</td>\n",
              "      <td>Whole Year</td>\n",
              "      <td>1261.0</td>\n",
              "      <td>Hectare</td>\n",
              "      <td>1525.0</td>\n",
              "      <td>Tonnes</td>\n",
              "      <td>1.209358</td>\n",
              "    </tr>\n",
              "  </tbody>\n",
              "</table>\n",
              "</div>\n",
              "      <button class=\"colab-df-convert\" onclick=\"convertToInteractive('df-a24b2482-5916-48d0-9e8e-2de5cf62c89f')\"\n",
              "              title=\"Convert this dataframe to an interactive table.\"\n",
              "              style=\"display:none;\">\n",
              "        \n",
              "  <svg xmlns=\"http://www.w3.org/2000/svg\" height=\"24px\"viewBox=\"0 0 24 24\"\n",
              "       width=\"24px\">\n",
              "    <path d=\"M0 0h24v24H0V0z\" fill=\"none\"/>\n",
              "    <path d=\"M18.56 5.44l.94 2.06.94-2.06 2.06-.94-2.06-.94-.94-2.06-.94 2.06-2.06.94zm-11 1L8.5 8.5l.94-2.06 2.06-.94-2.06-.94L8.5 2.5l-.94 2.06-2.06.94zm10 10l.94 2.06.94-2.06 2.06-.94-2.06-.94-.94-2.06-.94 2.06-2.06.94z\"/><path d=\"M17.41 7.96l-1.37-1.37c-.4-.4-.92-.59-1.43-.59-.52 0-1.04.2-1.43.59L10.3 9.45l-7.72 7.72c-.78.78-.78 2.05 0 2.83L4 21.41c.39.39.9.59 1.41.59.51 0 1.02-.2 1.41-.59l7.78-7.78 2.81-2.81c.8-.78.8-2.07 0-2.86zM5.41 20L4 18.59l7.72-7.72 1.47 1.35L5.41 20z\"/>\n",
              "  </svg>\n",
              "      </button>\n",
              "      \n",
              "  <style>\n",
              "    .colab-df-container {\n",
              "      display:flex;\n",
              "      flex-wrap:wrap;\n",
              "      gap: 12px;\n",
              "    }\n",
              "\n",
              "    .colab-df-convert {\n",
              "      background-color: #E8F0FE;\n",
              "      border: none;\n",
              "      border-radius: 50%;\n",
              "      cursor: pointer;\n",
              "      display: none;\n",
              "      fill: #1967D2;\n",
              "      height: 32px;\n",
              "      padding: 0 0 0 0;\n",
              "      width: 32px;\n",
              "    }\n",
              "\n",
              "    .colab-df-convert:hover {\n",
              "      background-color: #E2EBFA;\n",
              "      box-shadow: 0px 1px 2px rgba(60, 64, 67, 0.3), 0px 1px 3px 1px rgba(60, 64, 67, 0.15);\n",
              "      fill: #174EA6;\n",
              "    }\n",
              "\n",
              "    [theme=dark] .colab-df-convert {\n",
              "      background-color: #3B4455;\n",
              "      fill: #D2E3FC;\n",
              "    }\n",
              "\n",
              "    [theme=dark] .colab-df-convert:hover {\n",
              "      background-color: #434B5C;\n",
              "      box-shadow: 0px 1px 3px 1px rgba(0, 0, 0, 0.15);\n",
              "      filter: drop-shadow(0px 1px 2px rgba(0, 0, 0, 0.3));\n",
              "      fill: #FFFFFF;\n",
              "    }\n",
              "  </style>\n",
              "\n",
              "      <script>\n",
              "        const buttonEl =\n",
              "          document.querySelector('#df-a24b2482-5916-48d0-9e8e-2de5cf62c89f button.colab-df-convert');\n",
              "        buttonEl.style.display =\n",
              "          google.colab.kernel.accessAllowed ? 'block' : 'none';\n",
              "\n",
              "        async function convertToInteractive(key) {\n",
              "          const element = document.querySelector('#df-a24b2482-5916-48d0-9e8e-2de5cf62c89f');\n",
              "          const dataTable =\n",
              "            await google.colab.kernel.invokeFunction('convertToInteractive',\n",
              "                                                     [key], {});\n",
              "          if (!dataTable) return;\n",
              "\n",
              "          const docLinkHtml = 'Like what you see? Visit the ' +\n",
              "            '<a target=\"_blank\" href=https://colab.research.google.com/notebooks/data_table.ipynb>data table notebook</a>'\n",
              "            + ' to learn more about interactive tables.';\n",
              "          element.innerHTML = '';\n",
              "          dataTable['output_type'] = 'display_data';\n",
              "          await google.colab.output.renderOutput(dataTable, element);\n",
              "          const docLink = document.createElement('div');\n",
              "          docLink.innerHTML = docLinkHtml;\n",
              "          element.appendChild(docLink);\n",
              "        }\n",
              "      </script>\n",
              "    </div>\n",
              "  </div>\n",
              "  "
            ]
          },
          "metadata": {},
          "execution_count": 87
        }
      ]
    },
    {
      "cell_type": "markdown",
      "source": [
        "#### State"
      ],
      "metadata": {
        "id": "HWq_dsz-8P6t"
      }
    },
    {
      "cell_type": "code",
      "source": [
        "data['State'].unique()"
      ],
      "metadata": {
        "colab": {
          "base_uri": "https://localhost:8080/"
        },
        "id": "qZdZLiFfAomQ",
        "outputId": "66164ac0-2977-4c12-c3f3-3cdbc3f4f30c"
      },
      "execution_count": null,
      "outputs": [
        {
          "output_type": "execute_result",
          "data": {
            "text/plain": [
              "array(['Andaman and Nicobar Islands', 'Andhra Pradesh',\n",
              "       'Arunachal Pradesh', 'Assam', 'Bihar', 'Chandigarh',\n",
              "       'Chhattisgarh', 'Dadra and Nagar Haveli', 'Daman and Diu', 'Delhi',\n",
              "       'Goa', 'Gujarat', 'Haryana', 'Himachal Pradesh',\n",
              "       'Jammu and Kashmir', 'Jharkhand', 'Karnataka', 'Kerala',\n",
              "       'Madhya Pradesh', 'Maharashtra', 'Manipur', 'Meghalaya', 'Mizoram',\n",
              "       'Nagaland', 'Odisha', 'Puducherry', 'Punjab', 'Rajasthan',\n",
              "       'Sikkim', 'Tamil Nadu', 'Tripura', 'Uttar Pradesh', 'Uttarakhand',\n",
              "       'West Bengal', 'Telangana'], dtype=object)"
            ]
          },
          "metadata": {},
          "execution_count": 88
        }
      ]
    },
    {
      "cell_type": "code",
      "source": [
        "data['State'].value_counts()"
      ],
      "metadata": {
        "colab": {
          "base_uri": "https://localhost:8080/"
        },
        "id": "oRXPd_-GBWqB",
        "outputId": "5f06f2df-dc65-41a8-d08b-ceef6f1e48b6"
      },
      "execution_count": null,
      "outputs": [
        {
          "output_type": "execute_result",
          "data": {
            "text/plain": [
              "Uttar Pradesh                  44781\n",
              "Madhya Pradesh                 29906\n",
              "Karnataka                      27493\n",
              "Bihar                          24697\n",
              "Rajasthan                      20363\n",
              "Tamil Nadu                     18525\n",
              "Assam                          18186\n",
              "Maharashtra                    17922\n",
              "Andhra Pradesh                 16363\n",
              "Odisha                         16153\n",
              "Chhattisgarh                   14410\n",
              "Gujarat                        14053\n",
              "West Bengal                    12596\n",
              "Haryana                         8305\n",
              "Uttarakhand                     6383\n",
              "Nagaland                        5676\n",
              "Himachal Pradesh                5043\n",
              "Jharkhand                       5004\n",
              "Kerala                          4870\n",
              "Telangana                       4684\n",
              "Jammu and Kashmir               4349\n",
              "Arunachal Pradesh               4345\n",
              "Meghalaya                       4322\n",
              "Punjab                          4142\n",
              "Manipur                         3120\n",
              "Tripura                         2557\n",
              "Mizoram                         2112\n",
              "Puducherry                      1127\n",
              "Sikkim                           876\n",
              "Andaman and Nicobar Islands      728\n",
              "Goa                              399\n",
              "Dadra and Nagar Haveli           347\n",
              "Delhi                            203\n",
              "Chandigarh                       124\n",
              "Daman and Diu                     44\n",
              "Name: State, dtype: int64"
            ]
          },
          "metadata": {},
          "execution_count": 89
        }
      ]
    },
    {
      "cell_type": "markdown",
      "source": [
        "#### District"
      ],
      "metadata": {
        "id": "r0IHwoS28cXz"
      }
    },
    {
      "cell_type": "code",
      "source": [
        "data['District'].unique()"
      ],
      "metadata": {
        "colab": {
          "base_uri": "https://localhost:8080/"
        },
        "id": "QL8Ic_VYAvUw",
        "outputId": "b18e3172-60c7-467b-b2de-29ef2daa8936"
      },
      "execution_count": null,
      "outputs": [
        {
          "output_type": "execute_result",
          "data": {
            "text/plain": [
              "array(['NICOBARS', 'NORTH AND MIDDLE ANDAMAN', 'SOUTH ANDAMANS',\n",
              "       'ANANTAPUR', 'EAST GODAVARI', 'KRISHNA', 'VIZIANAGARAM',\n",
              "       'WEST GODAVARI', 'ADILABAD', 'CHITTOOR', 'GUNTUR', 'KADAPA',\n",
              "       'KARIMNAGAR', 'KHAMMAM', 'KURNOOL', 'MAHBUBNAGAR', 'MEDAK',\n",
              "       'NALGONDA', 'NIZAMABAD', 'PRAKASAM', 'RANGAREDDI', 'SPSR NELLORE',\n",
              "       'SRIKAKULAM', 'VISAKHAPATANAM', 'WARANGAL', 'CHANGLANG',\n",
              "       'DIBANG VALLEY', 'EAST KAMENG', 'EAST SIANG', 'KURUNG KUMEY',\n",
              "       'LOHIT', 'LOWER DIBANG VALLEY', 'LOWER SUBANSIRI', 'PAPUM PARE',\n",
              "       'TAWANG', 'TIRAP', 'UPPER SIANG', 'UPPER SUBANSIRI', 'WEST KAMENG',\n",
              "       'WEST SIANG', 'BARPETA', 'BONGAIGAON', 'CACHAR', 'DARRANG',\n",
              "       'DHEMAJI', 'DHUBRI', 'DIBRUGARH', 'DIMA HASAO', 'GOALPARA',\n",
              "       'GOLAGHAT', 'HAILAKANDI', 'JORHAT', 'KAMRUP', 'KARBI ANGLONG',\n",
              "       'KARIMGANJ', 'KOKRAJHAR', 'LAKHIMPUR', 'MARIGAON', 'NAGAON',\n",
              "       'NALBARI', 'SIVASAGAR', 'SONITPUR', 'TINSUKIA', 'ARARIA', 'ARWAL',\n",
              "       'AURANGABAD', 'BANKA', 'BEGUSARAI', 'BHAGALPUR', 'BHOJPUR',\n",
              "       'BUXAR', 'DARBHANGA', 'GAYA', 'GOPALGANJ', 'JAMUI', 'JEHANABAD',\n",
              "       'KAIMUR (BHABUA)', 'KATIHAR', 'KHAGARIA', 'KISHANGANJ',\n",
              "       'LAKHISARAI', 'MADHEPURA', 'MADHUBANI', 'MUNGER', 'MUZAFFARPUR',\n",
              "       'NALANDA', 'NAWADA', 'PASHCHIM CHAMPARAN', 'PATNA',\n",
              "       'PURBI CHAMPARAN', 'PURNIA', 'ROHTAS', 'SAHARSA', 'SAMASTIPUR',\n",
              "       'SARAN', 'SHEIKHPURA', 'SHEOHAR', 'SITAMARHI', 'SIWAN', 'SUPAUL',\n",
              "       'VAISHALI', 'CHANDIGARH', 'BASTAR', 'BILASPUR', 'DANTEWADA',\n",
              "       'DHAMTARI', 'DURG', 'JANJGIR-CHAMPA', 'JASHPUR', 'KABIRDHAM',\n",
              "       'KANKER', 'KORBA', 'KOREA', 'MAHASAMUND', 'RAIGARH', 'RAIPUR',\n",
              "       'RAJNANDGAON', 'SURGUJA', 'DADRA AND NAGAR HAVELI',\n",
              "       'Daman and Diu', 'Delhi', 'Goa', 'AHMADABAD', 'AMRELI', 'ANAND',\n",
              "       'BANAS KANTHA', 'BHARUCH', 'BHAVNAGAR', 'DANG', 'DOHAD',\n",
              "       'GANDHINAGAR', 'JAMNAGAR', 'JUNAGADH', 'KACHCHH', 'KHEDA',\n",
              "       'MAHESANA', 'NARMADA', 'NAVSARI', 'PANCH MAHALS', 'PATAN',\n",
              "       'PORBANDAR', 'RAJKOT', 'SABAR KANTHA', 'SURAT', 'SURENDRANAGAR',\n",
              "       'VADODARA', 'VALSAD', 'AMBALA', 'BHIWANI', 'FARIDABAD',\n",
              "       'FATEHABAD', 'GURGAON', 'HISAR', 'JHAJJAR', 'JIND', 'KAITHAL',\n",
              "       'KARNAL', 'KURUKSHETRA', 'MAHENDRAGARH', 'PANCHKULA', 'PANIPAT',\n",
              "       'REWARI', 'ROHTAK', 'SIRSA', 'SONIPAT', 'YAMUNANAGAR', 'KANGRA',\n",
              "       'KULLU', 'MANDI', 'SHIMLA', 'SOLAN', 'UNA', 'CHAMBA', 'HAMIRPUR',\n",
              "       'SIRMAUR', 'KINNAUR', 'LAHUL AND SPITI', 'DODA', 'JAMMU', 'KATHUA',\n",
              "       'RAJAURI', 'UDHAMPUR', 'KARGIL', 'LEH LADAKH', 'SRINAGAR',\n",
              "       'BADGAM', 'BARAMULLA', 'POONCH', 'PULWAMA', 'ANANTNAG', 'KUPWARA',\n",
              "       'CHATRA', 'DUMKA', 'GARHWA', 'GODDA', 'GUMLA', 'HAZARIBAGH',\n",
              "       'KODERMA', 'LATEHAR', 'LOHARDAGA', 'PAKUR', 'PALAMU', 'RANCHI',\n",
              "       'SAHEBGANJ', 'SARAIKELA KHARSAWAN', 'SIMDEGA', 'WEST SINGHBHUM',\n",
              "       'BOKARO', 'DEOGHAR', 'DHANBAD', 'EAST SINGHBUM', 'GIRIDIH',\n",
              "       'JAMTARA', 'BAGALKOT', 'BANGALORE RURAL', 'BELGAUM', 'BELLARY',\n",
              "       'BENGALURU URBAN', 'CHAMARAJANAGAR', 'CHIKMAGALUR', 'CHITRADURGA',\n",
              "       'DAKSHIN KANNAD', 'DAVANGERE', 'DHARWAD', 'GADAG', 'HASSAN',\n",
              "       'HAVERI', 'KODAGU', 'KOLAR', 'MANDYA', 'MYSORE', 'SHIMOGA',\n",
              "       'TUMKUR', 'UDUPI', 'UTTAR KANNAD', 'BIDAR', 'BIJAPUR', 'GULBARGA',\n",
              "       'KOPPAL', 'RAICHUR', 'ALAPPUZHA', 'ERNAKULAM', 'IDUKKI', 'KANNUR',\n",
              "       'KASARAGOD', 'KOLLAM', 'KOTTAYAM', 'KOZHIKODE', 'MALAPPURAM',\n",
              "       'PALAKKAD', 'PATHANAMTHITTA', 'THIRUVANANTHAPURAM', 'THRISSUR',\n",
              "       'WAYANAD', 'ANUPPUR', 'ASHOKNAGAR', 'BALAGHAT', 'BARWANI', 'BETUL',\n",
              "       'BHIND', 'BHOPAL', 'BURHANPUR', 'CHHATARPUR', 'CHHINDWARA',\n",
              "       'DAMOH', 'DATIA', 'DEWAS', 'DHAR', 'DINDORI', 'GUNA', 'GWALIOR',\n",
              "       'HARDA', 'HOSHANGABAD', 'INDORE', 'JABALPUR', 'JHABUA', 'KATNI',\n",
              "       'KHANDWA', 'KHARGONE', 'MANDLA', 'MANDSAUR', 'MORENA',\n",
              "       'NARSINGHPUR', 'NEEMUCH', 'PANNA', 'RAISEN', 'RAJGARH', 'RATLAM',\n",
              "       'REWA', 'SAGAR', 'SATNA', 'SEHORE', 'SEONI', 'SHAHDOL', 'SHAJAPUR',\n",
              "       'SHEOPUR', 'SHIVPURI', 'SIDHI', 'TIKAMGARH', 'UJJAIN', 'UMARIA',\n",
              "       'VIDISHA', 'AHMEDNAGAR', 'AKOLA', 'AMRAVATI', 'BEED', 'BHANDARA',\n",
              "       'BULDHANA', 'CHANDRAPUR', 'DHULE', 'GADCHIROLI', 'GONDIA',\n",
              "       'HINGOLI', 'JALGAON', 'JALNA', 'KOLHAPUR', 'LATUR', 'NAGPUR',\n",
              "       'NANDED', 'NANDURBAR', 'NASHIK', 'OSMANABAD', 'PARBHANI', 'PUNE',\n",
              "       'RAIGAD', 'RATNAGIRI', 'SANGLI', 'SATARA', 'SOLAPUR', 'THANE',\n",
              "       'WARDHA', 'WASHIM', 'YAVATMAL', 'SINDHUDURG', 'SENAPATI',\n",
              "       'BISHNUPUR', 'CHANDEL', 'CHURACHANDPUR', 'IMPHAL EAST',\n",
              "       'IMPHAL WEST', 'TAMENGLONG', 'THOUBAL', 'UKHRUL',\n",
              "       'EAST GARO HILLS', 'EAST JAINTIA HILLS', 'EAST KHASI HILLS',\n",
              "       'RI BHOI', 'SOUTH GARO HILLS', 'WEST GARO HILLS',\n",
              "       'WEST KHASI HILLS', 'AIZAWL', 'CHAMPHAI', 'KOLASIB', 'LUNGLEI',\n",
              "       'MAMIT', 'SAIHA', 'DIMAPUR', 'KOHIMA', 'MOKOKCHUNG', 'MON', 'PHEK',\n",
              "       'TUENSANG', 'WOKHA', 'ZUNHEBOTO', 'ANUGUL', 'BALANGIR',\n",
              "       'BALESHWAR', 'BARGARH', 'BHADRAK', 'BOUDH', 'CUTTACK', 'DEOGARH',\n",
              "       'DHENKANAL', 'GAJAPATI', 'GANJAM', 'JAGATSINGHAPUR', 'JAJAPUR',\n",
              "       'JHARSUGUDA', 'KALAHANDI', 'KANDHAMAL', 'KENDRAPARA', 'KENDUJHAR',\n",
              "       'KHORDHA', 'KORAPUT', 'MALKANGIRI', 'MAYURBHANJ', 'NABARANGPUR',\n",
              "       'NAYAGARH', 'NUAPADA', 'RAYAGADA', 'SAMBALPUR', 'SONEPUR',\n",
              "       'SUNDARGARH', 'PURI', 'MAHE', 'PONDICHERRY', 'KARAIKAL', 'YANAM',\n",
              "       'AMRITSAR', 'BATHINDA', 'FARIDKOT', 'FATEHGARH SAHIB', 'FIROZEPUR',\n",
              "       'HOSHIARPUR', 'JALANDHAR', 'KAPURTHALA', 'LUDHIANA', 'MOGA',\n",
              "       'MUKTSAR', 'NAWANSHAHR', 'PATIALA', 'RUPNAGAR', 'SANGRUR', 'MANSA',\n",
              "       'GURDASPUR', 'AJMER', 'ALWAR', 'BANSWARA', 'BARAN', 'BHARATPUR',\n",
              "       'BHILWARA', 'BIKANER', 'BUNDI', 'CHITTORGARH', 'DAUSA', 'DHOLPUR',\n",
              "       'DUNGARPUR', 'GANGANAGAR', 'HANUMANGARH', 'JAIPUR', 'JAISALMER',\n",
              "       'JALORE', 'JHALAWAR', 'KARAULI', 'KOTA', 'NAGAUR', 'PALI',\n",
              "       'RAJSAMAND', 'SAWAI MADHOPUR', 'SIKAR', 'SIROHI', 'TONK',\n",
              "       'UDAIPUR', 'BARMER', 'CHURU', 'JHUNJHUNU', 'JODHPUR', 'PRATAPGARH',\n",
              "       'EAST DISTRICT', 'NORTH DISTRICT', 'SOUTH DISTRICT',\n",
              "       'WEST DISTRICT', 'COIMBATORE', 'DHARMAPURI', 'DINDIGUL', 'ERODE',\n",
              "       'KANNIYAKUMARI', 'KARUR', 'KRISHNAGIRI', 'NAGAPATTINAM',\n",
              "       'NAMAKKAL', 'PERAMBALUR', 'SALEM', 'THANJAVUR', 'THE NILGIRIS',\n",
              "       'THENI', 'THIRUVARUR', 'TIRUCHIRAPPALLI', 'TIRUNELVELI',\n",
              "       'VIRUDHUNAGAR', 'CUDDALORE', 'KANCHIPURAM', 'MADURAI',\n",
              "       'PUDUKKOTTAI', 'RAMANATHAPURAM', 'SIVAGANGA', 'THIRUVALLUR',\n",
              "       'THOOTHUKUDI', 'TIRUVANNAMALAI', 'VELLORE', 'VILLUPURAM', 'DHALAI',\n",
              "       'NORTH TRIPURA', 'SOUTH TRIPURA', 'WEST TRIPURA', 'AGRA',\n",
              "       'ALIGARH', 'ALLAHABAD', 'AMBEDKAR NAGAR', 'AMROHA', 'AURAIYA',\n",
              "       'AZAMGARH', 'BAGHPAT', 'BAHRAICH', 'BALLIA', 'BALRAMPUR', 'BANDA',\n",
              "       'BARABANKI', 'BAREILLY', 'BASTI', 'BIJNOR', 'BUDAUN',\n",
              "       'BULANDSHAHR', 'CHANDAULI', 'CHITRAKOOT', 'DEORIA', 'ETAH',\n",
              "       'ETAWAH', 'FAIZABAD', 'FARRUKHABAD', 'FATEHPUR', 'FIROZABAD',\n",
              "       'GAUTAM BUDDHA NAGAR', 'GHAZIABAD', 'GHAZIPUR', 'GONDA',\n",
              "       'GORAKHPUR', 'HARDOI', 'HATHRAS', 'JALAUN', 'JAUNPUR', 'JHANSI',\n",
              "       'KANNAUJ', 'KANPUR DEHAT', 'KANPUR NAGAR', 'KAUSHAMBI', 'KHERI',\n",
              "       'KUSHI NAGAR', 'LALITPUR', 'LUCKNOW', 'MAHARAJGANJ', 'MAHOBA',\n",
              "       'MAINPURI', 'MATHURA', 'MAU', 'MEERUT', 'MIRZAPUR', 'MORADABAD',\n",
              "       'MUZAFFARNAGAR', 'PILIBHIT', 'RAE BARELI', 'RAMPUR', 'SAHARANPUR',\n",
              "       'SANT KABEER NAGAR', 'SANT RAVIDAS NAGAR', 'SHAHJAHANPUR',\n",
              "       'SHRAVASTI', 'SIDDHARTH NAGAR', 'SITAPUR', 'SONBHADRA',\n",
              "       'SULTANPUR', 'UNNAO', 'VARANASI', 'CHAMOLI', 'CHAMPAWAT',\n",
              "       'DEHRADUN', 'HARIDWAR', 'NAINITAL', 'PAURI GARHWAL', 'PITHORAGARH',\n",
              "       'RUDRA PRAYAG', 'TEHRI GARHWAL', 'UDAM SINGH NAGAR', 'UTTAR KASHI',\n",
              "       'ALMORA', 'BAGESHWAR', '24 PARAGANAS NORTH', '24 PARAGANAS SOUTH',\n",
              "       'BANKURA', 'BIRBHUM', 'COOCHBEHAR', 'DARJEELING',\n",
              "       'DINAJPUR DAKSHIN', 'DINAJPUR UTTAR', 'HOOGHLY', 'HOWRAH',\n",
              "       'JALPAIGURI', 'MALDAH', 'MEDINIPUR EAST', 'MEDINIPUR WEST',\n",
              "       'MURSHIDABAD', 'NADIA', 'PURBA BARDHAMAN', 'PURULIA', 'ANJAW',\n",
              "       'BAKSA', 'CHIRANG', 'KAMRUP METRO', 'UDALGURI', 'NARAYANPUR',\n",
              "       'NORTH GOA', 'SOUTH GOA', 'MEWAT', 'PALGHAR', 'LAWNGTLAI',\n",
              "       'SERCHHIP', 'S', 'TARN TARAN', 'Andaman and Nicobar Islands',\n",
              "       'DELHI_TOTAL', 'TAPI', 'PALWAL', 'REASI', 'SAMBA', 'KISHTWAR',\n",
              "       'RAMBAN', 'KULGAM', 'BANDIPORA', 'GANDERBAL', 'SHOPIAN', 'KHUNTI',\n",
              "       'RAMGARH', 'RAMANAGARA', 'CHIKBALLAPUR', 'ALIRAJPUR', 'SINGRAULI',\n",
              "       'KIPHIRE', 'LONGLENG', 'PEREN', 'BARNALA', 'TIRUPPUR', 'ARIYALUR',\n",
              "       'KASGANJ', 'BALOD', 'BALODA BAZAR', 'BEMETARA', 'GARIYABAND',\n",
              "       'KONDAGAON', 'MUNGELI', 'SUKMA', 'SURAJPUR', 'YADGIR', 'FAZILKA',\n",
              "       'PATHANKOT', 'GOMATI', 'KHOWAI', 'SEPAHIJALA', 'UNAKOTI', 'AMETHI',\n",
              "       'HAPUR', 'SAMBHAL', 'SHAMLI', 'KRA DAADI', 'LONGDING', 'NAMSAI',\n",
              "       'SIANG', 'DIU', 'DAMAN', 'ARAVALLI', 'BOTAD', 'CHHOTAUDEPUR',\n",
              "       'GIR SOMNATH', 'MAHISAGAR', 'DEVBHUMI DWARKA', 'MORBI',\n",
              "       'CHARKI DADRI', 'AGAR MALWA', 'NORTH GARO HILLS',\n",
              "       'SOUTH WEST GARO HILLS', 'SOUTH WEST KHASI HILLS',\n",
              "       'WEST JAINTIA HILLS', 'ALIPURDUAR', 'KAMLE', 'LOWER SIANG',\n",
              "       'MUMBAI SUBURBAN', 'CHENNAI', 'BHADRADRI', 'JAGITIAL', 'JANGOAN',\n",
              "       'JAYASHANKAR', 'JOGULAMBA', 'KAMAREDDY', 'KOMARAM BHEEM ASIFABAD',\n",
              "       'MAHABUBABAD', 'MANCHERIAL', 'MEDCHAL', 'MULUGU', 'NAGARKURNOOL',\n",
              "       'NARAYANAPET', 'NIRMAL', 'PEDDAPALLI', 'RAJANNA', 'SANGAREDDY',\n",
              "       'SIDDIPET', 'SURYAPET', 'VIKARABAD', 'WANAPARTHY',\n",
              "       'WARANGAL URBAN', 'YADADRI', 'JHARGRAM', 'PASCHIM BARDHAMAN',\n",
              "       'KALIMPONG', 'LEPARADA', 'PAKKE KESSANG', 'SHI YOMI', 'BISWANATH',\n",
              "       'CHARAIDEO', 'HOJAI', 'MAJULI', 'SOUTH SALMARA MANCACHAR',\n",
              "       'WEST KARBI ANGLONG', 'NIWARI', 'KALLAKURICHI', 'THENKASI',\n",
              "       'TIRUPATHUR', 'CHENGALPATTU', 'RANIPET', 'HYDERABAD', 'MUMBAI'],\n",
              "      dtype=object)"
            ]
          },
          "metadata": {},
          "execution_count": 90
        }
      ]
    },
    {
      "cell_type": "code",
      "source": [
        "data['District'].value_counts()"
      ],
      "metadata": {
        "colab": {
          "base_uri": "https://localhost:8080/"
        },
        "id": "0ZILYNMaBQyf",
        "outputId": "5889ec35-6bd3-4434-bd24-f1924314afd1"
      },
      "execution_count": null,
      "outputs": [
        {
          "output_type": "execute_result",
          "data": {
            "text/plain": [
              "BIJAPUR                    1255\n",
              "BILASPUR                   1212\n",
              "BELGAUM                    1197\n",
              "TUMKUR                     1175\n",
              "AURANGABAD                 1164\n",
              "                           ... \n",
              "CHARAIDEO                     2\n",
              "BISWANATH                     2\n",
              "MUMBAI SUBURBAN               2\n",
              "SOUTH SALMARA MANCACHAR       1\n",
              "MUMBAI                        1\n",
              "Name: District, Length: 709, dtype: int64"
            ]
          },
          "metadata": {},
          "execution_count": 91
        }
      ]
    },
    {
      "cell_type": "markdown",
      "source": [
        "**Top 5 Distict for agriculture: BIJAPUR, BILASPUR, BELGAUM, TUMKUR, AURANGABAD**"
      ],
      "metadata": {
        "id": "wTHq6jGS9noi"
      }
    },
    {
      "cell_type": "markdown",
      "source": [
        "#### Crop"
      ],
      "metadata": {
        "id": "XVwcmgYp8gX6"
      }
    },
    {
      "cell_type": "code",
      "source": [
        "data['Crop'].unique()"
      ],
      "metadata": {
        "colab": {
          "base_uri": "https://localhost:8080/"
        },
        "id": "L-y0AhxFAmiQ",
        "outputId": "d11820d4-e34f-422a-d237-19cc3a8e2179"
      },
      "execution_count": null,
      "outputs": [
        {
          "output_type": "execute_result",
          "data": {
            "text/plain": [
              "array(['Arecanut', 'Banana', 'Black pepper', 'Cashewnut', 'Coconut',\n",
              "       'Dry chillies', 'Ginger', 'Other Kharif pulses', 'other oilseeds',\n",
              "       'Rice', 'Sugarcane', 'Sweet potato', 'Arhar/Tur', 'Bajra',\n",
              "       'Castor seed', 'Coriander', 'Cotton(lint)', 'Gram', 'Groundnut',\n",
              "       'Horse-gram', 'Jowar', 'Linseed', 'Maize', 'Mesta',\n",
              "       'Moong(Green Gram)', 'Niger seed', 'Onion', 'Other Rabi pulses',\n",
              "       'Potato', 'Ragi', 'Rapeseed &Mustard', 'Safflower', 'Sesamum',\n",
              "       'Small millets', 'Soyabean', 'Sunflower', 'Tapioca', 'Tobacco',\n",
              "       'Turmeric', 'Urad', 'Wheat', 'Oilseeds total', 'Jute', 'Masoor',\n",
              "       'Peas & beans (Pulses)', 'Barley', 'Garlic', 'Khesari', 'Sannhamp',\n",
              "       'Guar seed', 'Moth', 'Cardamom', 'Other Cereals', 'Cowpea(Lobia)',\n",
              "       'Dry Ginger', 'Other Summer Pulses', nan], dtype=object)"
            ]
          },
          "metadata": {},
          "execution_count": 92
        }
      ]
    },
    {
      "cell_type": "code",
      "source": [
        "data['Crop'].value_counts()"
      ],
      "metadata": {
        "colab": {
          "base_uri": "https://localhost:8080/"
        },
        "id": "oJNvfFr4BKYH",
        "outputId": "1739b43d-7472-4b18-f534-3ed163299eb4"
      },
      "execution_count": null,
      "outputs": [
        {
          "output_type": "execute_result",
          "data": {
            "text/plain": [
              "Rice                     21567\n",
              "Maize                    20462\n",
              "Moong(Green Gram)        15040\n",
              "Urad                     14512\n",
              "Sesamum                  13009\n",
              "Groundnut                12555\n",
              "Wheat                    11208\n",
              "Rapeseed &Mustard        10993\n",
              "Sugarcane                10913\n",
              "Arhar/Tur                10857\n",
              "Potato                   10694\n",
              "Onion                    10637\n",
              "Gram                     10436\n",
              "Jowar                     9746\n",
              "Dry chillies              8943\n",
              "Bajra                     7786\n",
              "Peas & beans (Pulses)     7226\n",
              "Sunflower                 7226\n",
              "Small millets             6947\n",
              "Cotton(lint)              6468\n",
              "Masoor                    6347\n",
              "Turmeric                  5915\n",
              "Barley                    5867\n",
              "Linseed                   5866\n",
              "Ragi                      5732\n",
              "Sweet potato              5719\n",
              "Other Kharif pulses       5680\n",
              "Horse-gram                5379\n",
              "Coriander                 5010\n",
              "Garlic                    5007\n",
              "Soyabean                  4962\n",
              "Other Rabi pulses         4837\n",
              "Castor seed               4677\n",
              "Ginger                    4653\n",
              "Banana                    4486\n",
              "Tobacco                   3584\n",
              "Sannhamp                  3003\n",
              "Coconut                   2925\n",
              "Niger seed                2775\n",
              "Mesta                     2392\n",
              "Tapioca                   2268\n",
              "Arecanut                  2192\n",
              "Guar seed                 2088\n",
              "Jute                      1909\n",
              "Cowpea(Lobia)             1761\n",
              "Safflower                 1754\n",
              "Khesari                   1735\n",
              "Cashewnut                 1573\n",
              "Black pepper              1417\n",
              "Moth                      1407\n",
              "Other Cereals             1375\n",
              "other oilseeds            1232\n",
              "Oilseeds total             702\n",
              "Cardamom                   575\n",
              "Other Summer Pulses         67\n",
              "Dry Ginger                   3\n",
              "Name: Crop, dtype: int64"
            ]
          },
          "metadata": {},
          "execution_count": 93
        }
      ]
    },
    {
      "cell_type": "markdown",
      "source": [
        "**5 Most common choice for Agriculture in India are:\n",
        " Rice, Maize, Moong(Green Gram), Urad, Sesamum**"
      ],
      "metadata": {
        "id": "viun3Hj-80w8"
      }
    },
    {
      "cell_type": "markdown",
      "source": [
        "#### Season"
      ],
      "metadata": {
        "id": "clEiGgPE-C4K"
      }
    },
    {
      "cell_type": "code",
      "source": [
        "data['Season'].unique()"
      ],
      "metadata": {
        "colab": {
          "base_uri": "https://localhost:8080/"
        },
        "id": "K_BJUdwvAz7K",
        "outputId": "95c33d5b-9a78-4ef2-e4ce-50b2b3dc874b"
      },
      "execution_count": null,
      "outputs": [
        {
          "output_type": "execute_result",
          "data": {
            "text/plain": [
              "array(['Kharif', 'Whole Year', 'Rabi', 'Autumn', 'Summer', 'Winter'],\n",
              "      dtype=object)"
            ]
          },
          "metadata": {},
          "execution_count": 94
        }
      ]
    },
    {
      "cell_type": "code",
      "source": [
        "data['Season'].value_counts()"
      ],
      "metadata": {
        "colab": {
          "base_uri": "https://localhost:8080/"
        },
        "id": "pST1Asd3BE7X",
        "outputId": "44065e23-3f4a-4177-f3d7-b1a51ff593c6"
      },
      "execution_count": null,
      "outputs": [
        {
          "output_type": "execute_result",
          "data": {
            "text/plain": [
              "Kharif        137895\n",
              "Rabi          100591\n",
              "Whole Year     68399\n",
              "Summer         22084\n",
              "Winter          8250\n",
              "Autumn          6989\n",
              "Name: Season, dtype: int64"
            ]
          },
          "metadata": {},
          "execution_count": 95
        }
      ]
    },
    {
      "cell_type": "markdown",
      "source": [
        "**Kharif is the most prefered season for agriculture**"
      ],
      "metadata": {
        "id": "12NwsYyM-HSC"
      }
    },
    {
      "cell_type": "markdown",
      "source": [
        "#### Area Unit"
      ],
      "metadata": {
        "id": "s_ApsLH4-ZVK"
      }
    },
    {
      "cell_type": "code",
      "source": [
        "data['Area Units'].unique()"
      ],
      "metadata": {
        "colab": {
          "base_uri": "https://localhost:8080/"
        },
        "id": "ByA5SdHXBqVv",
        "outputId": "c9f7d66b-f8de-4d0d-d501-c9d2f30eddc2"
      },
      "execution_count": null,
      "outputs": [
        {
          "output_type": "execute_result",
          "data": {
            "text/plain": [
              "array(['Hectare'], dtype=object)"
            ]
          },
          "metadata": {},
          "execution_count": 96
        }
      ]
    },
    {
      "cell_type": "markdown",
      "source": [
        "#### Production Unit"
      ],
      "metadata": {
        "id": "u5aoLWQp-oDv"
      }
    },
    {
      "cell_type": "code",
      "source": [
        "data['Production Units'].unique()"
      ],
      "metadata": {
        "colab": {
          "base_uri": "https://localhost:8080/"
        },
        "id": "GeMHwUYBB4Lu",
        "outputId": "1ba632ec-f353-479e-cfb2-59370b80dfc3"
      },
      "execution_count": null,
      "outputs": [
        {
          "output_type": "execute_result",
          "data": {
            "text/plain": [
              "array(['Tonnes', 'Nuts', 'Bales'], dtype=object)"
            ]
          },
          "metadata": {},
          "execution_count": 97
        }
      ]
    },
    {
      "cell_type": "code",
      "source": [
        "data['Production Units'].value_counts()"
      ],
      "metadata": {
        "colab": {
          "base_uri": "https://localhost:8080/"
        },
        "id": "xpfSUF-FB7Cb",
        "outputId": "187b9029-9a42-495a-f3df-174d5b29c80e"
      },
      "execution_count": null,
      "outputs": [
        {
          "output_type": "execute_result",
          "data": {
            "text/plain": [
              "Tonnes    330514\n",
              "Bales      10769\n",
              "Nuts        2925\n",
              "Name: Production Units, dtype: int64"
            ]
          },
          "metadata": {},
          "execution_count": 98
        }
      ]
    },
    {
      "cell_type": "markdown",
      "source": [
        "**Majoritily Crop is measured in Tonnes**"
      ],
      "metadata": {
        "id": "qUZxuxMo-swo"
      }
    },
    {
      "cell_type": "code",
      "source": [
        "# Convering Production units(Bales and Nuts) into Tones \n",
        "\n",
        "def punit(data):\n",
        "    \n",
        "    if data[\"Production Units\"] == \"Nuts\":\n",
        "        new_production_unit= data[\"Production\"] / 50 \n",
        "        return new_production_unit\n",
        "        \n",
        "    elif data[\"Production Units\"] == \"Tonnes\":\n",
        "        return data[\"Production\"]\n",
        "    \n",
        "    else:\n",
        "        new_production_unit = data[\"Production\"] / 4.59\n",
        "        return new_production_unit\n",
        "\n",
        "        \n",
        "data[\"New_Production_Unit\"] = data.apply(punit, axis = 1)\n",
        "data.head(3)"
      ],
      "metadata": {
        "colab": {
          "base_uri": "https://localhost:8080/",
          "height": 257
        },
        "id": "CXNaL_nwCPBy",
        "outputId": "7c3a82e3-3bf4-4885-8607-c9102cd02a86"
      },
      "execution_count": null,
      "outputs": [
        {
          "output_type": "execute_result",
          "data": {
            "text/plain": [
              "                         State  District      Crop     Year      Season  \\\n",
              "0  Andaman and Nicobar Islands  NICOBARS  Arecanut  2001-02      Kharif   \n",
              "1  Andaman and Nicobar Islands  NICOBARS  Arecanut  2002-03  Whole Year   \n",
              "2  Andaman and Nicobar Islands  NICOBARS  Arecanut  2003-04  Whole Year   \n",
              "\n",
              "     Area Area Units  Production Production Units     Yield  \\\n",
              "0  1254.0    Hectare      2061.0           Tonnes  1.643541   \n",
              "1  1258.0    Hectare      2083.0           Tonnes  1.655803   \n",
              "2  1261.0    Hectare      1525.0           Tonnes  1.209358   \n",
              "\n",
              "   New_Production_Unit  \n",
              "0               2061.0  \n",
              "1               2083.0  \n",
              "2               1525.0  "
            ],
            "text/html": [
              "\n",
              "  <div id=\"df-9ea218c6-d8fd-463d-b8a1-ff552c68d9dd\">\n",
              "    <div class=\"colab-df-container\">\n",
              "      <div>\n",
              "<style scoped>\n",
              "    .dataframe tbody tr th:only-of-type {\n",
              "        vertical-align: middle;\n",
              "    }\n",
              "\n",
              "    .dataframe tbody tr th {\n",
              "        vertical-align: top;\n",
              "    }\n",
              "\n",
              "    .dataframe thead th {\n",
              "        text-align: right;\n",
              "    }\n",
              "</style>\n",
              "<table border=\"1\" class=\"dataframe\">\n",
              "  <thead>\n",
              "    <tr style=\"text-align: right;\">\n",
              "      <th></th>\n",
              "      <th>State</th>\n",
              "      <th>District</th>\n",
              "      <th>Crop</th>\n",
              "      <th>Year</th>\n",
              "      <th>Season</th>\n",
              "      <th>Area</th>\n",
              "      <th>Area Units</th>\n",
              "      <th>Production</th>\n",
              "      <th>Production Units</th>\n",
              "      <th>Yield</th>\n",
              "      <th>New_Production_Unit</th>\n",
              "    </tr>\n",
              "  </thead>\n",
              "  <tbody>\n",
              "    <tr>\n",
              "      <th>0</th>\n",
              "      <td>Andaman and Nicobar Islands</td>\n",
              "      <td>NICOBARS</td>\n",
              "      <td>Arecanut</td>\n",
              "      <td>2001-02</td>\n",
              "      <td>Kharif</td>\n",
              "      <td>1254.0</td>\n",
              "      <td>Hectare</td>\n",
              "      <td>2061.0</td>\n",
              "      <td>Tonnes</td>\n",
              "      <td>1.643541</td>\n",
              "      <td>2061.0</td>\n",
              "    </tr>\n",
              "    <tr>\n",
              "      <th>1</th>\n",
              "      <td>Andaman and Nicobar Islands</td>\n",
              "      <td>NICOBARS</td>\n",
              "      <td>Arecanut</td>\n",
              "      <td>2002-03</td>\n",
              "      <td>Whole Year</td>\n",
              "      <td>1258.0</td>\n",
              "      <td>Hectare</td>\n",
              "      <td>2083.0</td>\n",
              "      <td>Tonnes</td>\n",
              "      <td>1.655803</td>\n",
              "      <td>2083.0</td>\n",
              "    </tr>\n",
              "    <tr>\n",
              "      <th>2</th>\n",
              "      <td>Andaman and Nicobar Islands</td>\n",
              "      <td>NICOBARS</td>\n",
              "      <td>Arecanut</td>\n",
              "      <td>2003-04</td>\n",
              "      <td>Whole Year</td>\n",
              "      <td>1261.0</td>\n",
              "      <td>Hectare</td>\n",
              "      <td>1525.0</td>\n",
              "      <td>Tonnes</td>\n",
              "      <td>1.209358</td>\n",
              "      <td>1525.0</td>\n",
              "    </tr>\n",
              "  </tbody>\n",
              "</table>\n",
              "</div>\n",
              "      <button class=\"colab-df-convert\" onclick=\"convertToInteractive('df-9ea218c6-d8fd-463d-b8a1-ff552c68d9dd')\"\n",
              "              title=\"Convert this dataframe to an interactive table.\"\n",
              "              style=\"display:none;\">\n",
              "        \n",
              "  <svg xmlns=\"http://www.w3.org/2000/svg\" height=\"24px\"viewBox=\"0 0 24 24\"\n",
              "       width=\"24px\">\n",
              "    <path d=\"M0 0h24v24H0V0z\" fill=\"none\"/>\n",
              "    <path d=\"M18.56 5.44l.94 2.06.94-2.06 2.06-.94-2.06-.94-.94-2.06-.94 2.06-2.06.94zm-11 1L8.5 8.5l.94-2.06 2.06-.94-2.06-.94L8.5 2.5l-.94 2.06-2.06.94zm10 10l.94 2.06.94-2.06 2.06-.94-2.06-.94-.94-2.06-.94 2.06-2.06.94z\"/><path d=\"M17.41 7.96l-1.37-1.37c-.4-.4-.92-.59-1.43-.59-.52 0-1.04.2-1.43.59L10.3 9.45l-7.72 7.72c-.78.78-.78 2.05 0 2.83L4 21.41c.39.39.9.59 1.41.59.51 0 1.02-.2 1.41-.59l7.78-7.78 2.81-2.81c.8-.78.8-2.07 0-2.86zM5.41 20L4 18.59l7.72-7.72 1.47 1.35L5.41 20z\"/>\n",
              "  </svg>\n",
              "      </button>\n",
              "      \n",
              "  <style>\n",
              "    .colab-df-container {\n",
              "      display:flex;\n",
              "      flex-wrap:wrap;\n",
              "      gap: 12px;\n",
              "    }\n",
              "\n",
              "    .colab-df-convert {\n",
              "      background-color: #E8F0FE;\n",
              "      border: none;\n",
              "      border-radius: 50%;\n",
              "      cursor: pointer;\n",
              "      display: none;\n",
              "      fill: #1967D2;\n",
              "      height: 32px;\n",
              "      padding: 0 0 0 0;\n",
              "      width: 32px;\n",
              "    }\n",
              "\n",
              "    .colab-df-convert:hover {\n",
              "      background-color: #E2EBFA;\n",
              "      box-shadow: 0px 1px 2px rgba(60, 64, 67, 0.3), 0px 1px 3px 1px rgba(60, 64, 67, 0.15);\n",
              "      fill: #174EA6;\n",
              "    }\n",
              "\n",
              "    [theme=dark] .colab-df-convert {\n",
              "      background-color: #3B4455;\n",
              "      fill: #D2E3FC;\n",
              "    }\n",
              "\n",
              "    [theme=dark] .colab-df-convert:hover {\n",
              "      background-color: #434B5C;\n",
              "      box-shadow: 0px 1px 3px 1px rgba(0, 0, 0, 0.15);\n",
              "      filter: drop-shadow(0px 1px 2px rgba(0, 0, 0, 0.3));\n",
              "      fill: #FFFFFF;\n",
              "    }\n",
              "  </style>\n",
              "\n",
              "      <script>\n",
              "        const buttonEl =\n",
              "          document.querySelector('#df-9ea218c6-d8fd-463d-b8a1-ff552c68d9dd button.colab-df-convert');\n",
              "        buttonEl.style.display =\n",
              "          google.colab.kernel.accessAllowed ? 'block' : 'none';\n",
              "\n",
              "        async function convertToInteractive(key) {\n",
              "          const element = document.querySelector('#df-9ea218c6-d8fd-463d-b8a1-ff552c68d9dd');\n",
              "          const dataTable =\n",
              "            await google.colab.kernel.invokeFunction('convertToInteractive',\n",
              "                                                     [key], {});\n",
              "          if (!dataTable) return;\n",
              "\n",
              "          const docLinkHtml = 'Like what you see? Visit the ' +\n",
              "            '<a target=\"_blank\" href=https://colab.research.google.com/notebooks/data_table.ipynb>data table notebook</a>'\n",
              "            + ' to learn more about interactive tables.';\n",
              "          element.innerHTML = '';\n",
              "          dataTable['output_type'] = 'display_data';\n",
              "          await google.colab.output.renderOutput(dataTable, element);\n",
              "          const docLink = document.createElement('div');\n",
              "          docLink.innerHTML = docLinkHtml;\n",
              "          element.appendChild(docLink);\n",
              "        }\n",
              "      </script>\n",
              "    </div>\n",
              "  </div>\n",
              "  "
            ]
          },
          "metadata": {},
          "execution_count": 99
        }
      ]
    },
    {
      "cell_type": "markdown",
      "source": [
        "- Droping original Production and Production Unit Column as we converted all production unit into tones"
      ],
      "metadata": {
        "id": "yTe9wjBCDeHf"
      }
    },
    {
      "cell_type": "code",
      "source": [
        "data.drop(columns = [\"Production\", \"Production Units\"], inplace = True)"
      ],
      "metadata": {
        "id": "3974Au5kDcrK"
      },
      "execution_count": null,
      "outputs": []
    },
    {
      "cell_type": "markdown",
      "source": [
        "- Droping Area Units as the whole data set area unit is same which is \"Hectare\""
      ],
      "metadata": {
        "id": "wOL9TSnpQzEv"
      }
    },
    {
      "cell_type": "code",
      "source": [
        "data.drop(columns = ['Area Units'], inplace = True)"
      ],
      "metadata": {
        "id": "NkWoyErlQ22t"
      },
      "execution_count": null,
      "outputs": []
    },
    {
      "cell_type": "code",
      "source": [
        "data.head(10)"
      ],
      "metadata": {
        "colab": {
          "base_uri": "https://localhost:8080/",
          "height": 363
        },
        "id": "3y9B-dEeDyuX",
        "outputId": "14cae3f0-b62c-4c8f-b06a-ac8052d8a86f"
      },
      "execution_count": null,
      "outputs": [
        {
          "output_type": "execute_result",
          "data": {
            "text/plain": [
              "                         State                  District      Crop     Year  \\\n",
              "0  Andaman and Nicobar Islands                  NICOBARS  Arecanut  2001-02   \n",
              "1  Andaman and Nicobar Islands                  NICOBARS  Arecanut  2002-03   \n",
              "2  Andaman and Nicobar Islands                  NICOBARS  Arecanut  2003-04   \n",
              "3  Andaman and Nicobar Islands  NORTH AND MIDDLE ANDAMAN  Arecanut  2001-02   \n",
              "4  Andaman and Nicobar Islands            SOUTH ANDAMANS  Arecanut  2002-03   \n",
              "5  Andaman and Nicobar Islands            SOUTH ANDAMANS  Arecanut  2003-04   \n",
              "6  Andaman and Nicobar Islands                  NICOBARS    Banana  2002-03   \n",
              "7  Andaman and Nicobar Islands                  NICOBARS    Banana  2003-04   \n",
              "8  Andaman and Nicobar Islands            SOUTH ANDAMANS    Banana  2002-03   \n",
              "9  Andaman and Nicobar Islands            SOUTH ANDAMANS    Banana  2003-04   \n",
              "\n",
              "       Season    Area     Yield  New_Production_Unit  \n",
              "0      Kharif  1254.0  1.643541               2061.0  \n",
              "1  Whole Year  1258.0  1.655803               2083.0  \n",
              "2  Whole Year  1261.0  1.209358               1525.0  \n",
              "3      Kharif  3100.0  1.690000               5239.0  \n",
              "4  Whole Year  3105.0  1.696296               5267.0  \n",
              "5  Whole Year  3118.0  1.661963               5182.0  \n",
              "6  Whole Year   213.0  6.000000               1278.0  \n",
              "7  Whole Year   266.0  6.627820               1763.0  \n",
              "8  Whole Year  1524.0  7.140420              10882.0  \n",
              "9  Whole Year  1530.0  7.554248              11558.0  "
            ],
            "text/html": [
              "\n",
              "  <div id=\"df-a952f58d-eda4-4f3f-bda1-03fc7de5bec3\">\n",
              "    <div class=\"colab-df-container\">\n",
              "      <div>\n",
              "<style scoped>\n",
              "    .dataframe tbody tr th:only-of-type {\n",
              "        vertical-align: middle;\n",
              "    }\n",
              "\n",
              "    .dataframe tbody tr th {\n",
              "        vertical-align: top;\n",
              "    }\n",
              "\n",
              "    .dataframe thead th {\n",
              "        text-align: right;\n",
              "    }\n",
              "</style>\n",
              "<table border=\"1\" class=\"dataframe\">\n",
              "  <thead>\n",
              "    <tr style=\"text-align: right;\">\n",
              "      <th></th>\n",
              "      <th>State</th>\n",
              "      <th>District</th>\n",
              "      <th>Crop</th>\n",
              "      <th>Year</th>\n",
              "      <th>Season</th>\n",
              "      <th>Area</th>\n",
              "      <th>Yield</th>\n",
              "      <th>New_Production_Unit</th>\n",
              "    </tr>\n",
              "  </thead>\n",
              "  <tbody>\n",
              "    <tr>\n",
              "      <th>0</th>\n",
              "      <td>Andaman and Nicobar Islands</td>\n",
              "      <td>NICOBARS</td>\n",
              "      <td>Arecanut</td>\n",
              "      <td>2001-02</td>\n",
              "      <td>Kharif</td>\n",
              "      <td>1254.0</td>\n",
              "      <td>1.643541</td>\n",
              "      <td>2061.0</td>\n",
              "    </tr>\n",
              "    <tr>\n",
              "      <th>1</th>\n",
              "      <td>Andaman and Nicobar Islands</td>\n",
              "      <td>NICOBARS</td>\n",
              "      <td>Arecanut</td>\n",
              "      <td>2002-03</td>\n",
              "      <td>Whole Year</td>\n",
              "      <td>1258.0</td>\n",
              "      <td>1.655803</td>\n",
              "      <td>2083.0</td>\n",
              "    </tr>\n",
              "    <tr>\n",
              "      <th>2</th>\n",
              "      <td>Andaman and Nicobar Islands</td>\n",
              "      <td>NICOBARS</td>\n",
              "      <td>Arecanut</td>\n",
              "      <td>2003-04</td>\n",
              "      <td>Whole Year</td>\n",
              "      <td>1261.0</td>\n",
              "      <td>1.209358</td>\n",
              "      <td>1525.0</td>\n",
              "    </tr>\n",
              "    <tr>\n",
              "      <th>3</th>\n",
              "      <td>Andaman and Nicobar Islands</td>\n",
              "      <td>NORTH AND MIDDLE ANDAMAN</td>\n",
              "      <td>Arecanut</td>\n",
              "      <td>2001-02</td>\n",
              "      <td>Kharif</td>\n",
              "      <td>3100.0</td>\n",
              "      <td>1.690000</td>\n",
              "      <td>5239.0</td>\n",
              "    </tr>\n",
              "    <tr>\n",
              "      <th>4</th>\n",
              "      <td>Andaman and Nicobar Islands</td>\n",
              "      <td>SOUTH ANDAMANS</td>\n",
              "      <td>Arecanut</td>\n",
              "      <td>2002-03</td>\n",
              "      <td>Whole Year</td>\n",
              "      <td>3105.0</td>\n",
              "      <td>1.696296</td>\n",
              "      <td>5267.0</td>\n",
              "    </tr>\n",
              "    <tr>\n",
              "      <th>5</th>\n",
              "      <td>Andaman and Nicobar Islands</td>\n",
              "      <td>SOUTH ANDAMANS</td>\n",
              "      <td>Arecanut</td>\n",
              "      <td>2003-04</td>\n",
              "      <td>Whole Year</td>\n",
              "      <td>3118.0</td>\n",
              "      <td>1.661963</td>\n",
              "      <td>5182.0</td>\n",
              "    </tr>\n",
              "    <tr>\n",
              "      <th>6</th>\n",
              "      <td>Andaman and Nicobar Islands</td>\n",
              "      <td>NICOBARS</td>\n",
              "      <td>Banana</td>\n",
              "      <td>2002-03</td>\n",
              "      <td>Whole Year</td>\n",
              "      <td>213.0</td>\n",
              "      <td>6.000000</td>\n",
              "      <td>1278.0</td>\n",
              "    </tr>\n",
              "    <tr>\n",
              "      <th>7</th>\n",
              "      <td>Andaman and Nicobar Islands</td>\n",
              "      <td>NICOBARS</td>\n",
              "      <td>Banana</td>\n",
              "      <td>2003-04</td>\n",
              "      <td>Whole Year</td>\n",
              "      <td>266.0</td>\n",
              "      <td>6.627820</td>\n",
              "      <td>1763.0</td>\n",
              "    </tr>\n",
              "    <tr>\n",
              "      <th>8</th>\n",
              "      <td>Andaman and Nicobar Islands</td>\n",
              "      <td>SOUTH ANDAMANS</td>\n",
              "      <td>Banana</td>\n",
              "      <td>2002-03</td>\n",
              "      <td>Whole Year</td>\n",
              "      <td>1524.0</td>\n",
              "      <td>7.140420</td>\n",
              "      <td>10882.0</td>\n",
              "    </tr>\n",
              "    <tr>\n",
              "      <th>9</th>\n",
              "      <td>Andaman and Nicobar Islands</td>\n",
              "      <td>SOUTH ANDAMANS</td>\n",
              "      <td>Banana</td>\n",
              "      <td>2003-04</td>\n",
              "      <td>Whole Year</td>\n",
              "      <td>1530.0</td>\n",
              "      <td>7.554248</td>\n",
              "      <td>11558.0</td>\n",
              "    </tr>\n",
              "  </tbody>\n",
              "</table>\n",
              "</div>\n",
              "      <button class=\"colab-df-convert\" onclick=\"convertToInteractive('df-a952f58d-eda4-4f3f-bda1-03fc7de5bec3')\"\n",
              "              title=\"Convert this dataframe to an interactive table.\"\n",
              "              style=\"display:none;\">\n",
              "        \n",
              "  <svg xmlns=\"http://www.w3.org/2000/svg\" height=\"24px\"viewBox=\"0 0 24 24\"\n",
              "       width=\"24px\">\n",
              "    <path d=\"M0 0h24v24H0V0z\" fill=\"none\"/>\n",
              "    <path d=\"M18.56 5.44l.94 2.06.94-2.06 2.06-.94-2.06-.94-.94-2.06-.94 2.06-2.06.94zm-11 1L8.5 8.5l.94-2.06 2.06-.94-2.06-.94L8.5 2.5l-.94 2.06-2.06.94zm10 10l.94 2.06.94-2.06 2.06-.94-2.06-.94-.94-2.06-.94 2.06-2.06.94z\"/><path d=\"M17.41 7.96l-1.37-1.37c-.4-.4-.92-.59-1.43-.59-.52 0-1.04.2-1.43.59L10.3 9.45l-7.72 7.72c-.78.78-.78 2.05 0 2.83L4 21.41c.39.39.9.59 1.41.59.51 0 1.02-.2 1.41-.59l7.78-7.78 2.81-2.81c.8-.78.8-2.07 0-2.86zM5.41 20L4 18.59l7.72-7.72 1.47 1.35L5.41 20z\"/>\n",
              "  </svg>\n",
              "      </button>\n",
              "      \n",
              "  <style>\n",
              "    .colab-df-container {\n",
              "      display:flex;\n",
              "      flex-wrap:wrap;\n",
              "      gap: 12px;\n",
              "    }\n",
              "\n",
              "    .colab-df-convert {\n",
              "      background-color: #E8F0FE;\n",
              "      border: none;\n",
              "      border-radius: 50%;\n",
              "      cursor: pointer;\n",
              "      display: none;\n",
              "      fill: #1967D2;\n",
              "      height: 32px;\n",
              "      padding: 0 0 0 0;\n",
              "      width: 32px;\n",
              "    }\n",
              "\n",
              "    .colab-df-convert:hover {\n",
              "      background-color: #E2EBFA;\n",
              "      box-shadow: 0px 1px 2px rgba(60, 64, 67, 0.3), 0px 1px 3px 1px rgba(60, 64, 67, 0.15);\n",
              "      fill: #174EA6;\n",
              "    }\n",
              "\n",
              "    [theme=dark] .colab-df-convert {\n",
              "      background-color: #3B4455;\n",
              "      fill: #D2E3FC;\n",
              "    }\n",
              "\n",
              "    [theme=dark] .colab-df-convert:hover {\n",
              "      background-color: #434B5C;\n",
              "      box-shadow: 0px 1px 3px 1px rgba(0, 0, 0, 0.15);\n",
              "      filter: drop-shadow(0px 1px 2px rgba(0, 0, 0, 0.3));\n",
              "      fill: #FFFFFF;\n",
              "    }\n",
              "  </style>\n",
              "\n",
              "      <script>\n",
              "        const buttonEl =\n",
              "          document.querySelector('#df-a952f58d-eda4-4f3f-bda1-03fc7de5bec3 button.colab-df-convert');\n",
              "        buttonEl.style.display =\n",
              "          google.colab.kernel.accessAllowed ? 'block' : 'none';\n",
              "\n",
              "        async function convertToInteractive(key) {\n",
              "          const element = document.querySelector('#df-a952f58d-eda4-4f3f-bda1-03fc7de5bec3');\n",
              "          const dataTable =\n",
              "            await google.colab.kernel.invokeFunction('convertToInteractive',\n",
              "                                                     [key], {});\n",
              "          if (!dataTable) return;\n",
              "\n",
              "          const docLinkHtml = 'Like what you see? Visit the ' +\n",
              "            '<a target=\"_blank\" href=https://colab.research.google.com/notebooks/data_table.ipynb>data table notebook</a>'\n",
              "            + ' to learn more about interactive tables.';\n",
              "          element.innerHTML = '';\n",
              "          dataTable['output_type'] = 'display_data';\n",
              "          await google.colab.output.renderOutput(dataTable, element);\n",
              "          const docLink = document.createElement('div');\n",
              "          docLink.innerHTML = docLinkHtml;\n",
              "          element.appendChild(docLink);\n",
              "        }\n",
              "      </script>\n",
              "    </div>\n",
              "  </div>\n",
              "  "
            ]
          },
          "metadata": {},
          "execution_count": 102
        }
      ]
    },
    {
      "cell_type": "markdown",
      "source": [
        "### EDA"
      ],
      "metadata": {
        "id": "w-pDmeViISLQ"
      }
    },
    {
      "cell_type": "code",
      "source": [
        "# checking for Null Values, so that we can trate them\n",
        "\n",
        "data.isnull().sum()"
      ],
      "metadata": {
        "colab": {
          "base_uri": "https://localhost:8080/"
        },
        "id": "v3fG8EvSD5MG",
        "outputId": "aa2cc5b2-4781-442f-a9f0-1ad5efe3c870"
      },
      "execution_count": null,
      "outputs": [
        {
          "output_type": "execute_result",
          "data": {
            "text/plain": [
              "State                     0\n",
              "District                  0\n",
              "Crop                    109\n",
              "Year                      0\n",
              "Season                    0\n",
              "Area                    109\n",
              "Yield                   109\n",
              "New_Production_Unit    5021\n",
              "dtype: int64"
            ]
          },
          "metadata": {},
          "execution_count": 103
        }
      ]
    },
    {
      "cell_type": "code",
      "source": [
        "data.duplicated().value_counts()"
      ],
      "metadata": {
        "colab": {
          "base_uri": "https://localhost:8080/"
        },
        "id": "AXC3OU6CETvM",
        "outputId": "4ccf7476-138b-4ee7-aaf1-d4d33d5e2c18"
      },
      "execution_count": null,
      "outputs": [
        {
          "output_type": "execute_result",
          "data": {
            "text/plain": [
              "False    344208\n",
              "dtype: int64"
            ]
          },
          "metadata": {},
          "execution_count": 104
        }
      ]
    },
    {
      "cell_type": "code",
      "source": [
        "data.dropna(inplace=True)"
      ],
      "metadata": {
        "id": "FiCSPAHlElx3"
      },
      "execution_count": null,
      "outputs": []
    },
    {
      "cell_type": "markdown",
      "source": [
        "- deleted null values because dataset is huge"
      ],
      "metadata": {
        "id": "gIHMnVko_h4E"
      }
    },
    {
      "cell_type": "code",
      "source": [
        "data.isnull().sum()"
      ],
      "metadata": {
        "colab": {
          "base_uri": "https://localhost:8080/"
        },
        "id": "o0AypVnaE1Fr",
        "outputId": "54b629e5-d64f-4733-ca03-33f042392b65"
      },
      "execution_count": null,
      "outputs": [
        {
          "output_type": "execute_result",
          "data": {
            "text/plain": [
              "State                  0\n",
              "District               0\n",
              "Crop                   0\n",
              "Year                   0\n",
              "Season                 0\n",
              "Area                   0\n",
              "Yield                  0\n",
              "New_Production_Unit    0\n",
              "dtype: int64"
            ]
          },
          "metadata": {},
          "execution_count": 106
        }
      ]
    },
    {
      "cell_type": "markdown",
      "source": [
        "- No null values present in the dataset"
      ],
      "metadata": {
        "id": "uozdgZEM_YEw"
      }
    },
    {
      "cell_type": "code",
      "source": [
        "# checking shape of dataset after deleting null values\n",
        "data.shape"
      ],
      "metadata": {
        "id": "zcBlDbEDFX2_",
        "outputId": "7155fe62-4b8f-4afd-df46-cc011c12a4df",
        "colab": {
          "base_uri": "https://localhost:8080/"
        }
      },
      "execution_count": null,
      "outputs": [
        {
          "output_type": "execute_result",
          "data": {
            "text/plain": [
              "(339187, 8)"
            ]
          },
          "metadata": {},
          "execution_count": 107
        }
      ]
    },
    {
      "cell_type": "code",
      "source": [
        "data.groupby(['State','District']).size()"
      ],
      "metadata": {
        "colab": {
          "base_uri": "https://localhost:8080/"
        },
        "id": "gMfN-A5Dt3lm",
        "outputId": "5f30bd37-e715-4b4f-a5ad-d4bb11424021"
      },
      "execution_count": null,
      "outputs": [
        {
          "output_type": "execute_result",
          "data": {
            "text/plain": [
              "State                        District                   \n",
              "Andaman and Nicobar Islands  Andaman and Nicobar Islands     72\n",
              "                             NICOBARS                       195\n",
              "                             NORTH AND MIDDLE ANDAMAN       229\n",
              "                             SOUTH ANDAMANS                 229\n",
              "Andhra Pradesh               ADILABAD                       548\n",
              "                                                           ... \n",
              "West Bengal                  MURSHIDABAD                    752\n",
              "                             NADIA                          733\n",
              "                             PASCHIM BARDHAMAN               79\n",
              "                             PURBA BARDHAMAN                757\n",
              "                             PURULIA                        823\n",
              "Length: 770, dtype: int64"
            ]
          },
          "metadata": {},
          "execution_count": 108
        }
      ]
    },
    {
      "cell_type": "code",
      "source": [
        "data.groupby(['State','District','Crop']).size()"
      ],
      "metadata": {
        "colab": {
          "base_uri": "https://localhost:8080/"
        },
        "id": "4Qw3S-DPuCCl",
        "outputId": "c64f7e82-6698-4945-b91e-0a00d834a707"
      },
      "execution_count": null,
      "outputs": [
        {
          "output_type": "execute_result",
          "data": {
            "text/plain": [
              "State                        District                     Crop        \n",
              "Andaman and Nicobar Islands  Andaman and Nicobar Islands  Arecanut         6\n",
              "                                                          Arhar/Tur        3\n",
              "                                                          Banana           6\n",
              "                                                          Black pepper     6\n",
              "                                                          Coconut          3\n",
              "                                                                          ..\n",
              "West Bengal                  PURULIA                      Sunflower       16\n",
              "                                                          Tobacco          6\n",
              "                                                          Turmeric        12\n",
              "                                                          Urad            43\n",
              "                                                          Wheat           23\n",
              "Length: 22729, dtype: int64"
            ]
          },
          "metadata": {},
          "execution_count": 109
        }
      ]
    },
    {
      "cell_type": "code",
      "source": [
        "data.groupby(['State','District','Crop','Year']).size()"
      ],
      "metadata": {
        "colab": {
          "base_uri": "https://localhost:8080/"
        },
        "id": "w8FSH-0vuGOT",
        "outputId": "336f22b5-8a80-4e83-825c-136725d74853"
      },
      "execution_count": null,
      "outputs": [
        {
          "output_type": "execute_result",
          "data": {
            "text/plain": [
              "State                        District                     Crop       Year   \n",
              "Andaman and Nicobar Islands  Andaman and Nicobar Islands  Arecanut   2007-08    2\n",
              "                                                                     2008-09    2\n",
              "                                                                     2009-10    2\n",
              "                                                          Arhar/Tur  2007-08    1\n",
              "                                                                     2008-09    1\n",
              "                                                                               ..\n",
              "West Bengal                  PURULIA                      Wheat      2015-16    1\n",
              "                                                                     2016-17    1\n",
              "                                                                     2017-18    1\n",
              "                                                                     2018-19    1\n",
              "                                                                     2019-20    1\n",
              "Length: 291931, dtype: int64"
            ]
          },
          "metadata": {},
          "execution_count": 110
        }
      ]
    },
    {
      "cell_type": "markdown",
      "source": [
        "# LABEL ENCODER"
      ],
      "metadata": {
        "id": "An7S12gTKfoD"
      }
    },
    {
      "cell_type": "code",
      "source": [
        "data.head(3)"
      ],
      "metadata": {
        "colab": {
          "base_uri": "https://localhost:8080/",
          "height": 143
        },
        "id": "vZah6K-HKwNG",
        "outputId": "d4913140-ab53-4a67-a19f-55eba17c084e"
      },
      "execution_count": null,
      "outputs": [
        {
          "output_type": "execute_result",
          "data": {
            "text/plain": [
              "                         State  District      Crop     Year      Season  \\\n",
              "0  Andaman and Nicobar Islands  NICOBARS  Arecanut  2001-02      Kharif   \n",
              "1  Andaman and Nicobar Islands  NICOBARS  Arecanut  2002-03  Whole Year   \n",
              "2  Andaman and Nicobar Islands  NICOBARS  Arecanut  2003-04  Whole Year   \n",
              "\n",
              "     Area     Yield  New_Production_Unit  \n",
              "0  1254.0  1.643541               2061.0  \n",
              "1  1258.0  1.655803               2083.0  \n",
              "2  1261.0  1.209358               1525.0  "
            ],
            "text/html": [
              "\n",
              "  <div id=\"df-28b24233-bbc7-45e1-a0b7-152616d9812c\">\n",
              "    <div class=\"colab-df-container\">\n",
              "      <div>\n",
              "<style scoped>\n",
              "    .dataframe tbody tr th:only-of-type {\n",
              "        vertical-align: middle;\n",
              "    }\n",
              "\n",
              "    .dataframe tbody tr th {\n",
              "        vertical-align: top;\n",
              "    }\n",
              "\n",
              "    .dataframe thead th {\n",
              "        text-align: right;\n",
              "    }\n",
              "</style>\n",
              "<table border=\"1\" class=\"dataframe\">\n",
              "  <thead>\n",
              "    <tr style=\"text-align: right;\">\n",
              "      <th></th>\n",
              "      <th>State</th>\n",
              "      <th>District</th>\n",
              "      <th>Crop</th>\n",
              "      <th>Year</th>\n",
              "      <th>Season</th>\n",
              "      <th>Area</th>\n",
              "      <th>Yield</th>\n",
              "      <th>New_Production_Unit</th>\n",
              "    </tr>\n",
              "  </thead>\n",
              "  <tbody>\n",
              "    <tr>\n",
              "      <th>0</th>\n",
              "      <td>Andaman and Nicobar Islands</td>\n",
              "      <td>NICOBARS</td>\n",
              "      <td>Arecanut</td>\n",
              "      <td>2001-02</td>\n",
              "      <td>Kharif</td>\n",
              "      <td>1254.0</td>\n",
              "      <td>1.643541</td>\n",
              "      <td>2061.0</td>\n",
              "    </tr>\n",
              "    <tr>\n",
              "      <th>1</th>\n",
              "      <td>Andaman and Nicobar Islands</td>\n",
              "      <td>NICOBARS</td>\n",
              "      <td>Arecanut</td>\n",
              "      <td>2002-03</td>\n",
              "      <td>Whole Year</td>\n",
              "      <td>1258.0</td>\n",
              "      <td>1.655803</td>\n",
              "      <td>2083.0</td>\n",
              "    </tr>\n",
              "    <tr>\n",
              "      <th>2</th>\n",
              "      <td>Andaman and Nicobar Islands</td>\n",
              "      <td>NICOBARS</td>\n",
              "      <td>Arecanut</td>\n",
              "      <td>2003-04</td>\n",
              "      <td>Whole Year</td>\n",
              "      <td>1261.0</td>\n",
              "      <td>1.209358</td>\n",
              "      <td>1525.0</td>\n",
              "    </tr>\n",
              "  </tbody>\n",
              "</table>\n",
              "</div>\n",
              "      <button class=\"colab-df-convert\" onclick=\"convertToInteractive('df-28b24233-bbc7-45e1-a0b7-152616d9812c')\"\n",
              "              title=\"Convert this dataframe to an interactive table.\"\n",
              "              style=\"display:none;\">\n",
              "        \n",
              "  <svg xmlns=\"http://www.w3.org/2000/svg\" height=\"24px\"viewBox=\"0 0 24 24\"\n",
              "       width=\"24px\">\n",
              "    <path d=\"M0 0h24v24H0V0z\" fill=\"none\"/>\n",
              "    <path d=\"M18.56 5.44l.94 2.06.94-2.06 2.06-.94-2.06-.94-.94-2.06-.94 2.06-2.06.94zm-11 1L8.5 8.5l.94-2.06 2.06-.94-2.06-.94L8.5 2.5l-.94 2.06-2.06.94zm10 10l.94 2.06.94-2.06 2.06-.94-2.06-.94-.94-2.06-.94 2.06-2.06.94z\"/><path d=\"M17.41 7.96l-1.37-1.37c-.4-.4-.92-.59-1.43-.59-.52 0-1.04.2-1.43.59L10.3 9.45l-7.72 7.72c-.78.78-.78 2.05 0 2.83L4 21.41c.39.39.9.59 1.41.59.51 0 1.02-.2 1.41-.59l7.78-7.78 2.81-2.81c.8-.78.8-2.07 0-2.86zM5.41 20L4 18.59l7.72-7.72 1.47 1.35L5.41 20z\"/>\n",
              "  </svg>\n",
              "      </button>\n",
              "      \n",
              "  <style>\n",
              "    .colab-df-container {\n",
              "      display:flex;\n",
              "      flex-wrap:wrap;\n",
              "      gap: 12px;\n",
              "    }\n",
              "\n",
              "    .colab-df-convert {\n",
              "      background-color: #E8F0FE;\n",
              "      border: none;\n",
              "      border-radius: 50%;\n",
              "      cursor: pointer;\n",
              "      display: none;\n",
              "      fill: #1967D2;\n",
              "      height: 32px;\n",
              "      padding: 0 0 0 0;\n",
              "      width: 32px;\n",
              "    }\n",
              "\n",
              "    .colab-df-convert:hover {\n",
              "      background-color: #E2EBFA;\n",
              "      box-shadow: 0px 1px 2px rgba(60, 64, 67, 0.3), 0px 1px 3px 1px rgba(60, 64, 67, 0.15);\n",
              "      fill: #174EA6;\n",
              "    }\n",
              "\n",
              "    [theme=dark] .colab-df-convert {\n",
              "      background-color: #3B4455;\n",
              "      fill: #D2E3FC;\n",
              "    }\n",
              "\n",
              "    [theme=dark] .colab-df-convert:hover {\n",
              "      background-color: #434B5C;\n",
              "      box-shadow: 0px 1px 3px 1px rgba(0, 0, 0, 0.15);\n",
              "      filter: drop-shadow(0px 1px 2px rgba(0, 0, 0, 0.3));\n",
              "      fill: #FFFFFF;\n",
              "    }\n",
              "  </style>\n",
              "\n",
              "      <script>\n",
              "        const buttonEl =\n",
              "          document.querySelector('#df-28b24233-bbc7-45e1-a0b7-152616d9812c button.colab-df-convert');\n",
              "        buttonEl.style.display =\n",
              "          google.colab.kernel.accessAllowed ? 'block' : 'none';\n",
              "\n",
              "        async function convertToInteractive(key) {\n",
              "          const element = document.querySelector('#df-28b24233-bbc7-45e1-a0b7-152616d9812c');\n",
              "          const dataTable =\n",
              "            await google.colab.kernel.invokeFunction('convertToInteractive',\n",
              "                                                     [key], {});\n",
              "          if (!dataTable) return;\n",
              "\n",
              "          const docLinkHtml = 'Like what you see? Visit the ' +\n",
              "            '<a target=\"_blank\" href=https://colab.research.google.com/notebooks/data_table.ipynb>data table notebook</a>'\n",
              "            + ' to learn more about interactive tables.';\n",
              "          element.innerHTML = '';\n",
              "          dataTable['output_type'] = 'display_data';\n",
              "          await google.colab.output.renderOutput(dataTable, element);\n",
              "          const docLink = document.createElement('div');\n",
              "          docLink.innerHTML = docLinkHtml;\n",
              "          element.appendChild(docLink);\n",
              "        }\n",
              "      </script>\n",
              "    </div>\n",
              "  </div>\n",
              "  "
            ]
          },
          "metadata": {},
          "execution_count": 111
        }
      ]
    },
    {
      "cell_type": "code",
      "source": [
        "# label_encoder object knows how to understand word labels. \n",
        "le = preprocessing.LabelEncoder()"
      ],
      "metadata": {
        "id": "A2Tmfx1gKhBQ"
      },
      "execution_count": null,
      "outputs": []
    },
    {
      "cell_type": "code",
      "source": [
        "# Encode labels in column 'State'. \n",
        "data['State']= le.fit_transform(data['State']) \n",
        "print(data.head(5))"
      ],
      "metadata": {
        "colab": {
          "base_uri": "https://localhost:8080/"
        },
        "id": "45FFmFxOKvNA",
        "outputId": "746e93a1-9fa5-40a7-8309-9473fdae2b28"
      },
      "execution_count": null,
      "outputs": [
        {
          "output_type": "stream",
          "name": "stdout",
          "text": [
            "   State                  District      Crop     Year      Season    Area  \\\n",
            "0      0                  NICOBARS  Arecanut  2001-02      Kharif  1254.0   \n",
            "1      0                  NICOBARS  Arecanut  2002-03  Whole Year  1258.0   \n",
            "2      0                  NICOBARS  Arecanut  2003-04  Whole Year  1261.0   \n",
            "3      0  NORTH AND MIDDLE ANDAMAN  Arecanut  2001-02      Kharif  3100.0   \n",
            "4      0            SOUTH ANDAMANS  Arecanut  2002-03  Whole Year  3105.0   \n",
            "\n",
            "      Yield  New_Production_Unit  \n",
            "0  1.643541               2061.0  \n",
            "1  1.655803               2083.0  \n",
            "2  1.209358               1525.0  \n",
            "3  1.690000               5239.0  \n",
            "4  1.696296               5267.0  \n"
          ]
        }
      ]
    },
    {
      "cell_type": "code",
      "source": [
        "# Encode labels in column 'District'. \n",
        "data['District']= le.fit_transform(data['District']) \n",
        "print(data.head(5))"
      ],
      "metadata": {
        "colab": {
          "base_uri": "https://localhost:8080/"
        },
        "id": "XD2cKC0xLYGp",
        "outputId": "4743ad11-b024-40f7-a9da-4cf103f08849"
      },
      "execution_count": null,
      "outputs": [
        {
          "output_type": "stream",
          "name": "stdout",
          "text": [
            "   State  District      Crop     Year      Season    Area     Yield  \\\n",
            "0      0       469  Arecanut  2001-02      Kharif  1254.0  1.643541   \n",
            "1      0       469  Arecanut  2002-03  Whole Year  1258.0  1.655803   \n",
            "2      0       469  Arecanut  2003-04  Whole Year  1261.0  1.209358   \n",
            "3      0       473  Arecanut  2001-02      Kharif  3100.0  1.690000   \n",
            "4      0       613  Arecanut  2002-03  Whole Year  3105.0  1.696296   \n",
            "\n",
            "   New_Production_Unit  \n",
            "0               2061.0  \n",
            "1               2083.0  \n",
            "2               1525.0  \n",
            "3               5239.0  \n",
            "4               5267.0  \n"
          ]
        }
      ]
    },
    {
      "cell_type": "code",
      "source": [
        "# Encode labels in column 'Crop'. \n",
        "data['Crop']= le.fit_transform(data['Crop']) \n",
        "print(data.head(5))"
      ],
      "metadata": {
        "colab": {
          "base_uri": "https://localhost:8080/"
        },
        "id": "IrilAbqZLiA_",
        "outputId": "bbbf653b-0f8c-4aef-ae90-a713d3c44276"
      },
      "execution_count": null,
      "outputs": [
        {
          "output_type": "stream",
          "name": "stdout",
          "text": [
            "   State  District  Crop     Year      Season    Area     Yield  \\\n",
            "0      0       469     0  2001-02      Kharif  1254.0  1.643541   \n",
            "1      0       469     0  2002-03  Whole Year  1258.0  1.655803   \n",
            "2      0       469     0  2003-04  Whole Year  1261.0  1.209358   \n",
            "3      0       473     0  2001-02      Kharif  3100.0  1.690000   \n",
            "4      0       613     0  2002-03  Whole Year  3105.0  1.696296   \n",
            "\n",
            "   New_Production_Unit  \n",
            "0               2061.0  \n",
            "1               2083.0  \n",
            "2               1525.0  \n",
            "3               5239.0  \n",
            "4               5267.0  \n"
          ]
        }
      ]
    },
    {
      "cell_type": "code",
      "source": [
        "# Encode labels in column 'Season'. \n",
        "data['Season']= le.fit_transform(data['Season']) \n",
        "print(data.head(5))"
      ],
      "metadata": {
        "colab": {
          "base_uri": "https://localhost:8080/"
        },
        "id": "j71v_V4fQWGw",
        "outputId": "6709fc72-3eb8-4bb7-b707-fdef86e23356"
      },
      "execution_count": null,
      "outputs": [
        {
          "output_type": "stream",
          "name": "stdout",
          "text": [
            "   State  District  Crop     Year  Season    Area     Yield  \\\n",
            "0      0       469     0  2001-02       1  1254.0  1.643541   \n",
            "1      0       469     0  2002-03       4  1258.0  1.655803   \n",
            "2      0       469     0  2003-04       4  1261.0  1.209358   \n",
            "3      0       473     0  2001-02       1  3100.0  1.690000   \n",
            "4      0       613     0  2002-03       4  3105.0  1.696296   \n",
            "\n",
            "   New_Production_Unit  \n",
            "0               2061.0  \n",
            "1               2083.0  \n",
            "2               1525.0  \n",
            "3               5239.0  \n",
            "4               5267.0  \n"
          ]
        }
      ]
    },
    {
      "cell_type": "code",
      "source": [
        "data.head(10)"
      ],
      "metadata": {
        "colab": {
          "base_uri": "https://localhost:8080/",
          "height": 363
        },
        "id": "pM_7YyDGSTRq",
        "outputId": "ae63bfde-dce6-463e-a574-51730c5e2c01"
      },
      "execution_count": null,
      "outputs": [
        {
          "output_type": "execute_result",
          "data": {
            "text/plain": [
              "   State  District  Crop     Year  Season    Area     Yield  \\\n",
              "0      0       469     0  2001-02       1  1254.0  1.643541   \n",
              "1      0       469     0  2002-03       4  1258.0  1.655803   \n",
              "2      0       469     0  2003-04       4  1261.0  1.209358   \n",
              "3      0       473     0  2001-02       1  3100.0  1.690000   \n",
              "4      0       613     0  2002-03       4  3105.0  1.696296   \n",
              "5      0       613     0  2003-04       4  3118.0  1.661963   \n",
              "6      0       469     3  2002-03       4   213.0  6.000000   \n",
              "7      0       469     3  2003-04       4   266.0  6.627820   \n",
              "8      0       613     3  2002-03       4  1524.0  7.140420   \n",
              "9      0       613     3  2003-04       4  1530.0  7.554248   \n",
              "\n",
              "   New_Production_Unit  \n",
              "0               2061.0  \n",
              "1               2083.0  \n",
              "2               1525.0  \n",
              "3               5239.0  \n",
              "4               5267.0  \n",
              "5               5182.0  \n",
              "6               1278.0  \n",
              "7               1763.0  \n",
              "8              10882.0  \n",
              "9              11558.0  "
            ],
            "text/html": [
              "\n",
              "  <div id=\"df-9c38efe1-1b40-42c7-bbdd-03dfab778fcc\">\n",
              "    <div class=\"colab-df-container\">\n",
              "      <div>\n",
              "<style scoped>\n",
              "    .dataframe tbody tr th:only-of-type {\n",
              "        vertical-align: middle;\n",
              "    }\n",
              "\n",
              "    .dataframe tbody tr th {\n",
              "        vertical-align: top;\n",
              "    }\n",
              "\n",
              "    .dataframe thead th {\n",
              "        text-align: right;\n",
              "    }\n",
              "</style>\n",
              "<table border=\"1\" class=\"dataframe\">\n",
              "  <thead>\n",
              "    <tr style=\"text-align: right;\">\n",
              "      <th></th>\n",
              "      <th>State</th>\n",
              "      <th>District</th>\n",
              "      <th>Crop</th>\n",
              "      <th>Year</th>\n",
              "      <th>Season</th>\n",
              "      <th>Area</th>\n",
              "      <th>Yield</th>\n",
              "      <th>New_Production_Unit</th>\n",
              "    </tr>\n",
              "  </thead>\n",
              "  <tbody>\n",
              "    <tr>\n",
              "      <th>0</th>\n",
              "      <td>0</td>\n",
              "      <td>469</td>\n",
              "      <td>0</td>\n",
              "      <td>2001-02</td>\n",
              "      <td>1</td>\n",
              "      <td>1254.0</td>\n",
              "      <td>1.643541</td>\n",
              "      <td>2061.0</td>\n",
              "    </tr>\n",
              "    <tr>\n",
              "      <th>1</th>\n",
              "      <td>0</td>\n",
              "      <td>469</td>\n",
              "      <td>0</td>\n",
              "      <td>2002-03</td>\n",
              "      <td>4</td>\n",
              "      <td>1258.0</td>\n",
              "      <td>1.655803</td>\n",
              "      <td>2083.0</td>\n",
              "    </tr>\n",
              "    <tr>\n",
              "      <th>2</th>\n",
              "      <td>0</td>\n",
              "      <td>469</td>\n",
              "      <td>0</td>\n",
              "      <td>2003-04</td>\n",
              "      <td>4</td>\n",
              "      <td>1261.0</td>\n",
              "      <td>1.209358</td>\n",
              "      <td>1525.0</td>\n",
              "    </tr>\n",
              "    <tr>\n",
              "      <th>3</th>\n",
              "      <td>0</td>\n",
              "      <td>473</td>\n",
              "      <td>0</td>\n",
              "      <td>2001-02</td>\n",
              "      <td>1</td>\n",
              "      <td>3100.0</td>\n",
              "      <td>1.690000</td>\n",
              "      <td>5239.0</td>\n",
              "    </tr>\n",
              "    <tr>\n",
              "      <th>4</th>\n",
              "      <td>0</td>\n",
              "      <td>613</td>\n",
              "      <td>0</td>\n",
              "      <td>2002-03</td>\n",
              "      <td>4</td>\n",
              "      <td>3105.0</td>\n",
              "      <td>1.696296</td>\n",
              "      <td>5267.0</td>\n",
              "    </tr>\n",
              "    <tr>\n",
              "      <th>5</th>\n",
              "      <td>0</td>\n",
              "      <td>613</td>\n",
              "      <td>0</td>\n",
              "      <td>2003-04</td>\n",
              "      <td>4</td>\n",
              "      <td>3118.0</td>\n",
              "      <td>1.661963</td>\n",
              "      <td>5182.0</td>\n",
              "    </tr>\n",
              "    <tr>\n",
              "      <th>6</th>\n",
              "      <td>0</td>\n",
              "      <td>469</td>\n",
              "      <td>3</td>\n",
              "      <td>2002-03</td>\n",
              "      <td>4</td>\n",
              "      <td>213.0</td>\n",
              "      <td>6.000000</td>\n",
              "      <td>1278.0</td>\n",
              "    </tr>\n",
              "    <tr>\n",
              "      <th>7</th>\n",
              "      <td>0</td>\n",
              "      <td>469</td>\n",
              "      <td>3</td>\n",
              "      <td>2003-04</td>\n",
              "      <td>4</td>\n",
              "      <td>266.0</td>\n",
              "      <td>6.627820</td>\n",
              "      <td>1763.0</td>\n",
              "    </tr>\n",
              "    <tr>\n",
              "      <th>8</th>\n",
              "      <td>0</td>\n",
              "      <td>613</td>\n",
              "      <td>3</td>\n",
              "      <td>2002-03</td>\n",
              "      <td>4</td>\n",
              "      <td>1524.0</td>\n",
              "      <td>7.140420</td>\n",
              "      <td>10882.0</td>\n",
              "    </tr>\n",
              "    <tr>\n",
              "      <th>9</th>\n",
              "      <td>0</td>\n",
              "      <td>613</td>\n",
              "      <td>3</td>\n",
              "      <td>2003-04</td>\n",
              "      <td>4</td>\n",
              "      <td>1530.0</td>\n",
              "      <td>7.554248</td>\n",
              "      <td>11558.0</td>\n",
              "    </tr>\n",
              "  </tbody>\n",
              "</table>\n",
              "</div>\n",
              "      <button class=\"colab-df-convert\" onclick=\"convertToInteractive('df-9c38efe1-1b40-42c7-bbdd-03dfab778fcc')\"\n",
              "              title=\"Convert this dataframe to an interactive table.\"\n",
              "              style=\"display:none;\">\n",
              "        \n",
              "  <svg xmlns=\"http://www.w3.org/2000/svg\" height=\"24px\"viewBox=\"0 0 24 24\"\n",
              "       width=\"24px\">\n",
              "    <path d=\"M0 0h24v24H0V0z\" fill=\"none\"/>\n",
              "    <path d=\"M18.56 5.44l.94 2.06.94-2.06 2.06-.94-2.06-.94-.94-2.06-.94 2.06-2.06.94zm-11 1L8.5 8.5l.94-2.06 2.06-.94-2.06-.94L8.5 2.5l-.94 2.06-2.06.94zm10 10l.94 2.06.94-2.06 2.06-.94-2.06-.94-.94-2.06-.94 2.06-2.06.94z\"/><path d=\"M17.41 7.96l-1.37-1.37c-.4-.4-.92-.59-1.43-.59-.52 0-1.04.2-1.43.59L10.3 9.45l-7.72 7.72c-.78.78-.78 2.05 0 2.83L4 21.41c.39.39.9.59 1.41.59.51 0 1.02-.2 1.41-.59l7.78-7.78 2.81-2.81c.8-.78.8-2.07 0-2.86zM5.41 20L4 18.59l7.72-7.72 1.47 1.35L5.41 20z\"/>\n",
              "  </svg>\n",
              "      </button>\n",
              "      \n",
              "  <style>\n",
              "    .colab-df-container {\n",
              "      display:flex;\n",
              "      flex-wrap:wrap;\n",
              "      gap: 12px;\n",
              "    }\n",
              "\n",
              "    .colab-df-convert {\n",
              "      background-color: #E8F0FE;\n",
              "      border: none;\n",
              "      border-radius: 50%;\n",
              "      cursor: pointer;\n",
              "      display: none;\n",
              "      fill: #1967D2;\n",
              "      height: 32px;\n",
              "      padding: 0 0 0 0;\n",
              "      width: 32px;\n",
              "    }\n",
              "\n",
              "    .colab-df-convert:hover {\n",
              "      background-color: #E2EBFA;\n",
              "      box-shadow: 0px 1px 2px rgba(60, 64, 67, 0.3), 0px 1px 3px 1px rgba(60, 64, 67, 0.15);\n",
              "      fill: #174EA6;\n",
              "    }\n",
              "\n",
              "    [theme=dark] .colab-df-convert {\n",
              "      background-color: #3B4455;\n",
              "      fill: #D2E3FC;\n",
              "    }\n",
              "\n",
              "    [theme=dark] .colab-df-convert:hover {\n",
              "      background-color: #434B5C;\n",
              "      box-shadow: 0px 1px 3px 1px rgba(0, 0, 0, 0.15);\n",
              "      filter: drop-shadow(0px 1px 2px rgba(0, 0, 0, 0.3));\n",
              "      fill: #FFFFFF;\n",
              "    }\n",
              "  </style>\n",
              "\n",
              "      <script>\n",
              "        const buttonEl =\n",
              "          document.querySelector('#df-9c38efe1-1b40-42c7-bbdd-03dfab778fcc button.colab-df-convert');\n",
              "        buttonEl.style.display =\n",
              "          google.colab.kernel.accessAllowed ? 'block' : 'none';\n",
              "\n",
              "        async function convertToInteractive(key) {\n",
              "          const element = document.querySelector('#df-9c38efe1-1b40-42c7-bbdd-03dfab778fcc');\n",
              "          const dataTable =\n",
              "            await google.colab.kernel.invokeFunction('convertToInteractive',\n",
              "                                                     [key], {});\n",
              "          if (!dataTable) return;\n",
              "\n",
              "          const docLinkHtml = 'Like what you see? Visit the ' +\n",
              "            '<a target=\"_blank\" href=https://colab.research.google.com/notebooks/data_table.ipynb>data table notebook</a>'\n",
              "            + ' to learn more about interactive tables.';\n",
              "          element.innerHTML = '';\n",
              "          dataTable['output_type'] = 'display_data';\n",
              "          await google.colab.output.renderOutput(dataTable, element);\n",
              "          const docLink = document.createElement('div');\n",
              "          docLink.innerHTML = docLinkHtml;\n",
              "          element.appendChild(docLink);\n",
              "        }\n",
              "      </script>\n",
              "    </div>\n",
              "  </div>\n",
              "  "
            ]
          },
          "metadata": {},
          "execution_count": 117
        }
      ]
    },
    {
      "cell_type": "markdown",
      "source": [
        "# Histogram"
      ],
      "metadata": {
        "id": "FVLNsHKFS1Dk"
      }
    },
    {
      "cell_type": "code",
      "source": [
        "data.hist(figsize = (15,15))\n",
        "plt.show()"
      ],
      "metadata": {
        "colab": {
          "base_uri": "https://localhost:8080/",
          "height": 892
        },
        "id": "tinopMSoSZcO",
        "outputId": "d9333225-8053-4450-f243-f155d55b194b"
      },
      "execution_count": null,
      "outputs": [
        {
          "output_type": "display_data",
          "data": {
            "text/plain": [
              "<Figure size 1080x1080 with 9 Axes>"
            ],
            "image/png": "[encoded data removed]"
          },
          "metadata": {
            "needs_background": "light"
          }
        }
      ]
    },
    {
      "cell_type": "markdown",
      "source": [
        "# Corelation of each feature in dataset"
      ],
      "metadata": {
        "id": "YL1p1IxvTKm4"
      }
    },
    {
      "cell_type": "code",
      "source": [
        "data.corr()"
      ],
      "metadata": {
        "colab": {
          "base_uri": "https://localhost:8080/",
          "height": 269
        },
        "id": "S8W90t5_S3Id",
        "outputId": "f93b9c06-14ff-4871-99eb-cd3e14f618df"
      },
      "execution_count": null,
      "outputs": [
        {
          "output_type": "execute_result",
          "data": {
            "text/plain": [
              "                        State  District      Crop    Season      Area  \\\n",
              "State                1.000000 -0.040706  0.008891 -0.042137  0.036176   \n",
              "District            -0.040706  1.000000 -0.001823  0.001032 -0.023496   \n",
              "Crop                 0.008891 -0.001823  1.000000  0.040711  0.058262   \n",
              "Season              -0.042137  0.001032  0.040711  1.000000 -0.046036   \n",
              "Area                 0.036176 -0.023496  0.058262 -0.046036  1.000000   \n",
              "Yield                0.001449  0.007645 -0.108507  0.130238  0.000091   \n",
              "New_Production_Unit  0.028647  0.007781  0.017155  0.077734  0.200569   \n",
              "\n",
              "                        Yield  New_Production_Unit  \n",
              "State                0.001449             0.028647  \n",
              "District             0.007645             0.007781  \n",
              "Crop                -0.108507             0.017155  \n",
              "Season               0.130238             0.077734  \n",
              "Area                 0.000091             0.200569  \n",
              "Yield                1.000000             0.326860  \n",
              "New_Production_Unit  0.326860             1.000000  "
            ],
            "text/html": [
              "\n",
              "  <div id=\"df-aa2404e6-3529-4fe9-8e2c-1776184f4f4e\">\n",
              "    <div class=\"colab-df-container\">\n",
              "      <div>\n",
              "<style scoped>\n",
              "    .dataframe tbody tr th:only-of-type {\n",
              "        vertical-align: middle;\n",
              "    }\n",
              "\n",
              "    .dataframe tbody tr th {\n",
              "        vertical-align: top;\n",
              "    }\n",
              "\n",
              "    .dataframe thead th {\n",
              "        text-align: right;\n",
              "    }\n",
              "</style>\n",
              "<table border=\"1\" class=\"dataframe\">\n",
              "  <thead>\n",
              "    <tr style=\"text-align: right;\">\n",
              "      <th></th>\n",
              "      <th>State</th>\n",
              "      <th>District</th>\n",
              "      <th>Crop</th>\n",
              "      <th>Season</th>\n",
              "      <th>Area</th>\n",
              "      <th>Yield</th>\n",
              "      <th>New_Production_Unit</th>\n",
              "    </tr>\n",
              "  </thead>\n",
              "  <tbody>\n",
              "    <tr>\n",
              "      <th>State</th>\n",
              "      <td>1.000000</td>\n",
              "      <td>-0.040706</td>\n",
              "      <td>0.008891</td>\n",
              "      <td>-0.042137</td>\n",
              "      <td>0.036176</td>\n",
              "      <td>0.001449</td>\n",
              "      <td>0.028647</td>\n",
              "    </tr>\n",
              "    <tr>\n",
              "      <th>District</th>\n",
              "      <td>-0.040706</td>\n",
              "      <td>1.000000</td>\n",
              "      <td>-0.001823</td>\n",
              "      <td>0.001032</td>\n",
              "      <td>-0.023496</td>\n",
              "      <td>0.007645</td>\n",
              "      <td>0.007781</td>\n",
              "    </tr>\n",
              "    <tr>\n",
              "      <th>Crop</th>\n",
              "      <td>0.008891</td>\n",
              "      <td>-0.001823</td>\n",
              "      <td>1.000000</td>\n",
              "      <td>0.040711</td>\n",
              "      <td>0.058262</td>\n",
              "      <td>-0.108507</td>\n",
              "      <td>0.017155</td>\n",
              "    </tr>\n",
              "    <tr>\n",
              "      <th>Season</th>\n",
              "      <td>-0.042137</td>\n",
              "      <td>0.001032</td>\n",
              "      <td>0.040711</td>\n",
              "      <td>1.000000</td>\n",
              "      <td>-0.046036</td>\n",
              "      <td>0.130238</td>\n",
              "      <td>0.077734</td>\n",
              "    </tr>\n",
              "    <tr>\n",
              "      <th>Area</th>\n",
              "      <td>0.036176</td>\n",
              "      <td>-0.023496</td>\n",
              "      <td>0.058262</td>\n",
              "      <td>-0.046036</td>\n",
              "      <td>1.000000</td>\n",
              "      <td>0.000091</td>\n",
              "      <td>0.200569</td>\n",
              "    </tr>\n",
              "    <tr>\n",
              "      <th>Yield</th>\n",
              "      <td>0.001449</td>\n",
              "      <td>0.007645</td>\n",
              "      <td>-0.108507</td>\n",
              "      <td>0.130238</td>\n",
              "      <td>0.000091</td>\n",
              "      <td>1.000000</td>\n",
              "      <td>0.326860</td>\n",
              "    </tr>\n",
              "    <tr>\n",
              "      <th>New_Production_Unit</th>\n",
              "      <td>0.028647</td>\n",
              "      <td>0.007781</td>\n",
              "      <td>0.017155</td>\n",
              "      <td>0.077734</td>\n",
              "      <td>0.200569</td>\n",
              "      <td>0.326860</td>\n",
              "      <td>1.000000</td>\n",
              "    </tr>\n",
              "  </tbody>\n",
              "</table>\n",
              "</div>\n",
              "      <button class=\"colab-df-convert\" onclick=\"convertToInteractive('df-aa2404e6-3529-4fe9-8e2c-1776184f4f4e')\"\n",
              "              title=\"Convert this dataframe to an interactive table.\"\n",
              "              style=\"display:none;\">\n",
              "        \n",
              "  <svg xmlns=\"http://www.w3.org/2000/svg\" height=\"24px\"viewBox=\"0 0 24 24\"\n",
              "       width=\"24px\">\n",
              "    <path d=\"M0 0h24v24H0V0z\" fill=\"none\"/>\n",
              "    <path d=\"M18.56 5.44l.94 2.06.94-2.06 2.06-.94-2.06-.94-.94-2.06-.94 2.06-2.06.94zm-11 1L8.5 8.5l.94-2.06 2.06-.94-2.06-.94L8.5 2.5l-.94 2.06-2.06.94zm10 10l.94 2.06.94-2.06 2.06-.94-2.06-.94-.94-2.06-.94 2.06-2.06.94z\"/><path d=\"M17.41 7.96l-1.37-1.37c-.4-.4-.92-.59-1.43-.59-.52 0-1.04.2-1.43.59L10.3 9.45l-7.72 7.72c-.78.78-.78 2.05 0 2.83L4 21.41c.39.39.9.59 1.41.59.51 0 1.02-.2 1.41-.59l7.78-7.78 2.81-2.81c.8-.78.8-2.07 0-2.86zM5.41 20L4 18.59l7.72-7.72 1.47 1.35L5.41 20z\"/>\n",
              "  </svg>\n",
              "      </button>\n",
              "      \n",
              "  <style>\n",
              "    .colab-df-container {\n",
              "      display:flex;\n",
              "      flex-wrap:wrap;\n",
              "      gap: 12px;\n",
              "    }\n",
              "\n",
              "    .colab-df-convert {\n",
              "      background-color: #E8F0FE;\n",
              "      border: none;\n",
              "      border-radius: 50%;\n",
              "      cursor: pointer;\n",
              "      display: none;\n",
              "      fill: #1967D2;\n",
              "      height: 32px;\n",
              "      padding: 0 0 0 0;\n",
              "      width: 32px;\n",
              "    }\n",
              "\n",
              "    .colab-df-convert:hover {\n",
              "      background-color: #E2EBFA;\n",
              "      box-shadow: 0px 1px 2px rgba(60, 64, 67, 0.3), 0px 1px 3px 1px rgba(60, 64, 67, 0.15);\n",
              "      fill: #174EA6;\n",
              "    }\n",
              "\n",
              "    [theme=dark] .colab-df-convert {\n",
              "      background-color: #3B4455;\n",
              "      fill: #D2E3FC;\n",
              "    }\n",
              "\n",
              "    [theme=dark] .colab-df-convert:hover {\n",
              "      background-color: #434B5C;\n",
              "      box-shadow: 0px 1px 3px 1px rgba(0, 0, 0, 0.15);\n",
              "      filter: drop-shadow(0px 1px 2px rgba(0, 0, 0, 0.3));\n",
              "      fill: #FFFFFF;\n",
              "    }\n",
              "  </style>\n",
              "\n",
              "      <script>\n",
              "        const buttonEl =\n",
              "          document.querySelector('#df-aa2404e6-3529-4fe9-8e2c-1776184f4f4e button.colab-df-convert');\n",
              "        buttonEl.style.display =\n",
              "          google.colab.kernel.accessAllowed ? 'block' : 'none';\n",
              "\n",
              "        async function convertToInteractive(key) {\n",
              "          const element = document.querySelector('#df-aa2404e6-3529-4fe9-8e2c-1776184f4f4e');\n",
              "          const dataTable =\n",
              "            await google.colab.kernel.invokeFunction('convertToInteractive',\n",
              "                                                     [key], {});\n",
              "          if (!dataTable) return;\n",
              "\n",
              "          const docLinkHtml = 'Like what you see? Visit the ' +\n",
              "            '<a target=\"_blank\" href=https://colab.research.google.com/notebooks/data_table.ipynb>data table notebook</a>'\n",
              "            + ' to learn more about interactive tables.';\n",
              "          element.innerHTML = '';\n",
              "          dataTable['output_type'] = 'display_data';\n",
              "          await google.colab.output.renderOutput(dataTable, element);\n",
              "          const docLink = document.createElement('div');\n",
              "          docLink.innerHTML = docLinkHtml;\n",
              "          element.appendChild(docLink);\n",
              "        }\n",
              "      </script>\n",
              "    </div>\n",
              "  </div>\n",
              "  "
            ]
          },
          "metadata": {},
          "execution_count": 119
        }
      ]
    },
    {
      "cell_type": "code",
      "source": [
        "plt.figure(figsize=(15,5))\n",
        "sns.heatmap(data.corr(),cmap='Blues',annot=True)"
      ],
      "metadata": {
        "colab": {
          "base_uri": "https://localhost:8080/",
          "height": 342
        },
        "id": "aJFMy58-TOMN",
        "outputId": "cbf326e5-4427-4665-ea10-91789de3d7b5"
      },
      "execution_count": null,
      "outputs": [
        {
          "output_type": "execute_result",
          "data": {
            "text/plain": [
              "<AxesSubplot:>"
            ]
          },
          "metadata": {},
          "execution_count": 120
        },
        {
          "output_type": "display_data",
          "data": {
            "text/plain": [
              "<Figure size 1080x360 with 2 Axes>"
            ],
            "image/png": "[encoded data removed]"
          },
          "metadata": {
            "needs_background": "light"
          }
        }
      ]
    },
    {
      "cell_type": "code",
      "source": [
        "data.head(3)"
      ],
      "metadata": {
        "colab": {
          "base_uri": "https://localhost:8080/",
          "height": 143
        },
        "id": "wgYVMl2kWKd7",
        "outputId": "92f26fd5-bc8c-4675-ebaa-69f5b4fd016f"
      },
      "execution_count": null,
      "outputs": [
        {
          "output_type": "execute_result",
          "data": {
            "text/plain": [
              "   State  District  Crop     Year  Season    Area     Yield  \\\n",
              "0      0       469     0  2001-02       1  1254.0  1.643541   \n",
              "1      0       469     0  2002-03       4  1258.0  1.655803   \n",
              "2      0       469     0  2003-04       4  1261.0  1.209358   \n",
              "\n",
              "   New_Production_Unit  \n",
              "0               2061.0  \n",
              "1               2083.0  \n",
              "2               1525.0  "
            ],
            "text/html": [
              "\n",
              "  <div id=\"df-25d867db-860e-4e9e-9a24-5fb11367f0ad\">\n",
              "    <div class=\"colab-df-container\">\n",
              "      <div>\n",
              "<style scoped>\n",
              "    .dataframe tbody tr th:only-of-type {\n",
              "        vertical-align: middle;\n",
              "    }\n",
              "\n",
              "    .dataframe tbody tr th {\n",
              "        vertical-align: top;\n",
              "    }\n",
              "\n",
              "    .dataframe thead th {\n",
              "        text-align: right;\n",
              "    }\n",
              "</style>\n",
              "<table border=\"1\" class=\"dataframe\">\n",
              "  <thead>\n",
              "    <tr style=\"text-align: right;\">\n",
              "      <th></th>\n",
              "      <th>State</th>\n",
              "      <th>District</th>\n",
              "      <th>Crop</th>\n",
              "      <th>Year</th>\n",
              "      <th>Season</th>\n",
              "      <th>Area</th>\n",
              "      <th>Yield</th>\n",
              "      <th>New_Production_Unit</th>\n",
              "    </tr>\n",
              "  </thead>\n",
              "  <tbody>\n",
              "    <tr>\n",
              "      <th>0</th>\n",
              "      <td>0</td>\n",
              "      <td>469</td>\n",
              "      <td>0</td>\n",
              "      <td>2001-02</td>\n",
              "      <td>1</td>\n",
              "      <td>1254.0</td>\n",
              "      <td>1.643541</td>\n",
              "      <td>2061.0</td>\n",
              "    </tr>\n",
              "    <tr>\n",
              "      <th>1</th>\n",
              "      <td>0</td>\n",
              "      <td>469</td>\n",
              "      <td>0</td>\n",
              "      <td>2002-03</td>\n",
              "      <td>4</td>\n",
              "      <td>1258.0</td>\n",
              "      <td>1.655803</td>\n",
              "      <td>2083.0</td>\n",
              "    </tr>\n",
              "    <tr>\n",
              "      <th>2</th>\n",
              "      <td>0</td>\n",
              "      <td>469</td>\n",
              "      <td>0</td>\n",
              "      <td>2003-04</td>\n",
              "      <td>4</td>\n",
              "      <td>1261.0</td>\n",
              "      <td>1.209358</td>\n",
              "      <td>1525.0</td>\n",
              "    </tr>\n",
              "  </tbody>\n",
              "</table>\n",
              "</div>\n",
              "      <button class=\"colab-df-convert\" onclick=\"convertToInteractive('df-25d867db-860e-4e9e-9a24-5fb11367f0ad')\"\n",
              "              title=\"Convert this dataframe to an interactive table.\"\n",
              "              style=\"display:none;\">\n",
              "        \n",
              "  <svg xmlns=\"http://www.w3.org/2000/svg\" height=\"24px\"viewBox=\"0 0 24 24\"\n",
              "       width=\"24px\">\n",
              "    <path d=\"M0 0h24v24H0V0z\" fill=\"none\"/>\n",
              "    <path d=\"M18.56 5.44l.94 2.06.94-2.06 2.06-.94-2.06-.94-.94-2.06-.94 2.06-2.06.94zm-11 1L8.5 8.5l.94-2.06 2.06-.94-2.06-.94L8.5 2.5l-.94 2.06-2.06.94zm10 10l.94 2.06.94-2.06 2.06-.94-2.06-.94-.94-2.06-.94 2.06-2.06.94z\"/><path d=\"M17.41 7.96l-1.37-1.37c-.4-.4-.92-.59-1.43-.59-.52 0-1.04.2-1.43.59L10.3 9.45l-7.72 7.72c-.78.78-.78 2.05 0 2.83L4 21.41c.39.39.9.59 1.41.59.51 0 1.02-.2 1.41-.59l7.78-7.78 2.81-2.81c.8-.78.8-2.07 0-2.86zM5.41 20L4 18.59l7.72-7.72 1.47 1.35L5.41 20z\"/>\n",
              "  </svg>\n",
              "      </button>\n",
              "      \n",
              "  <style>\n",
              "    .colab-df-container {\n",
              "      display:flex;\n",
              "      flex-wrap:wrap;\n",
              "      gap: 12px;\n",
              "    }\n",
              "\n",
              "    .colab-df-convert {\n",
              "      background-color: #E8F0FE;\n",
              "      border: none;\n",
              "      border-radius: 50%;\n",
              "      cursor: pointer;\n",
              "      display: none;\n",
              "      fill: #1967D2;\n",
              "      height: 32px;\n",
              "      padding: 0 0 0 0;\n",
              "      width: 32px;\n",
              "    }\n",
              "\n",
              "    .colab-df-convert:hover {\n",
              "      background-color: #E2EBFA;\n",
              "      box-shadow: 0px 1px 2px rgba(60, 64, 67, 0.3), 0px 1px 3px 1px rgba(60, 64, 67, 0.15);\n",
              "      fill: #174EA6;\n",
              "    }\n",
              "\n",
              "    [theme=dark] .colab-df-convert {\n",
              "      background-color: #3B4455;\n",
              "      fill: #D2E3FC;\n",
              "    }\n",
              "\n",
              "    [theme=dark] .colab-df-convert:hover {\n",
              "      background-color: #434B5C;\n",
              "      box-shadow: 0px 1px 3px 1px rgba(0, 0, 0, 0.15);\n",
              "      filter: drop-shadow(0px 1px 2px rgba(0, 0, 0, 0.3));\n",
              "      fill: #FFFFFF;\n",
              "    }\n",
              "  </style>\n",
              "\n",
              "      <script>\n",
              "        const buttonEl =\n",
              "          document.querySelector('#df-25d867db-860e-4e9e-9a24-5fb11367f0ad button.colab-df-convert');\n",
              "        buttonEl.style.display =\n",
              "          google.colab.kernel.accessAllowed ? 'block' : 'none';\n",
              "\n",
              "        async function convertToInteractive(key) {\n",
              "          const element = document.querySelector('#df-25d867db-860e-4e9e-9a24-5fb11367f0ad');\n",
              "          const dataTable =\n",
              "            await google.colab.kernel.invokeFunction('convertToInteractive',\n",
              "                                                     [key], {});\n",
              "          if (!dataTable) return;\n",
              "\n",
              "          const docLinkHtml = 'Like what you see? Visit the ' +\n",
              "            '<a target=\"_blank\" href=https://colab.research.google.com/notebooks/data_table.ipynb>data table notebook</a>'\n",
              "            + ' to learn more about interactive tables.';\n",
              "          element.innerHTML = '';\n",
              "          dataTable['output_type'] = 'display_data';\n",
              "          await google.colab.output.renderOutput(dataTable, element);\n",
              "          const docLink = document.createElement('div');\n",
              "          docLink.innerHTML = docLinkHtml;\n",
              "          element.appendChild(docLink);\n",
              "        }\n",
              "      </script>\n",
              "    </div>\n",
              "  </div>\n",
              "  "
            ]
          },
          "metadata": {},
          "execution_count": 121
        }
      ]
    },
    {
      "cell_type": "markdown",
      "source": [
        "# Checking Outlier Using ZSCORE"
      ],
      "metadata": {
        "id": "yO3UlrS5er8_"
      }
    },
    {
      "cell_type": "code",
      "source": [
        "# Checking For Outliers\n",
        "data.plot(kind=\"box\", subplots=True, layout=(3,3), figsize=(10,10))"
      ],
      "metadata": {
        "colab": {
          "base_uri": "https://localhost:8080/",
          "height": 731
        },
        "id": "Yu3MVanWaOW7",
        "outputId": "f534fc18-82a8-4560-9b10-db4dc5f404e2"
      },
      "execution_count": null,
      "outputs": [
        {
          "output_type": "execute_result",
          "data": {
            "text/plain": [
              "State                     AxesSubplot(0.125,0.657941;0.227941x0.222059)\n",
              "District               AxesSubplot(0.398529,0.657941;0.227941x0.222059)\n",
              "Crop                   AxesSubplot(0.672059,0.657941;0.227941x0.222059)\n",
              "Season                    AxesSubplot(0.125,0.391471;0.227941x0.222059)\n",
              "Area                   AxesSubplot(0.398529,0.391471;0.227941x0.222059)\n",
              "Yield                  AxesSubplot(0.672059,0.391471;0.227941x0.222059)\n",
              "New_Production_Unit          AxesSubplot(0.125,0.125;0.227941x0.222059)\n",
              "dtype: object"
            ]
          },
          "metadata": {},
          "execution_count": 122
        },
        {
          "output_type": "display_data",
          "data": {
            "text/plain": [
              "<Figure size 720x720 with 9 Axes>"
            ],
            "image/png": "[encoded data removed]"
          },
          "metadata": {
            "needs_background": "light"
          }
        }
      ]
    },
    {
      "cell_type": "markdown",
      "source": [
        "##### New_Production_Unit"
      ],
      "metadata": {
        "id": "1Sutl28NqhBZ"
      }
    },
    {
      "cell_type": "code",
      "source": [
        "# Calculate the mean and standard deviation\n",
        "mean_New_Production_Unit = sum(data['New_Production_Unit']) / len(data['New_Production_Unit'])\n",
        "stddev_New_Production_Unit = stats.tstd(data['New_Production_Unit'])\n",
        "\n",
        "# Set the desired significance level\n",
        "alpha = 0.05\n",
        "\n",
        "# Calculate the critical z-score for the chosen significance level\n",
        "z_critical = stats.norm.ppf(1 - alpha/2)\n",
        "\n",
        "# Calculate the threshold value for the z-score\n",
        "threshold_New_Production_Unit = z_critical * stddev_New_Production_Unit\n",
        "\n",
        "print(\"Mean:\", mean_New_Production_Unit)\n",
        "print(\"Standard deviation:\", stddev_New_Production_Unit)\n",
        "print(\"Threshold value for z-score:\", threshold_New_Production_Unit)\n"
      ],
      "metadata": {
        "colab": {
          "base_uri": "https://localhost:8080/"
        },
        "id": "Rzsgyc-eatVi",
        "outputId": "5360a4a5-4a77-4566-dcaa-137717c3be85"
      },
      "execution_count": null,
      "outputs": [
        {
          "output_type": "stream",
          "name": "stdout",
          "text": [
            "Mean: 62081.90033934198\n",
            "Standard deviation: 571593.6046713176\n",
            "Threshold value for z-score: 1120302.8789492082\n"
          ]
        }
      ]
    },
    {
      "cell_type": "code",
      "source": [
        "z_scores = np.abs((data['New_Production_Unit'] - data['New_Production_Unit'].mean()) / data['New_Production_Unit'].std())\n",
        "\n",
        "# Identify outliers as data points with z-score greater than a certain threshold\n",
        "threshold = threshold_New_Production_Unit\n",
        "outliers = data[z_scores > threshold]\n",
        "\n",
        "# Print the number of outliers\n",
        "print(f'There are {len(outliers)} outliers in the data.')"
      ],
      "metadata": {
        "colab": {
          "base_uri": "https://localhost:8080/"
        },
        "id": "sWYkG8SdX4dD",
        "outputId": "ecf12be0-7ed1-4d5d-fe82-0f546298a41f"
      },
      "execution_count": null,
      "outputs": [
        {
          "output_type": "stream",
          "name": "stdout",
          "text": [
            "There are 0 outliers in the data.\n"
          ]
        }
      ]
    },
    {
      "cell_type": "markdown",
      "source": [
        "##### Area"
      ],
      "metadata": {
        "id": "8ZhUfxyKqkwn"
      }
    },
    {
      "cell_type": "code",
      "source": [
        "import scipy.stats as stats\n",
        "\n",
        "# Calculate the mean and standard deviation\n",
        "mean_Area = sum(data['Area']) / len(data['Area'])\n",
        "stddev_Area = stats.tstd(data['Area'])\n",
        "\n",
        "# Set the desired significance level\n",
        "alpha = 0.05\n",
        "\n",
        "# Calculate the critical z-score for the chosen significance level\n",
        "z_critical = stats.norm.ppf(1 - alpha/2)\n",
        "\n",
        "# Calculate the threshold value for the z-score\n",
        "threshold_Area = z_critical * stddev_Area\n",
        "\n",
        "print(\"Mean:\", mean_Area)\n",
        "print(\"Standard deviation:\", stddev_Area)\n",
        "print(\"Threshold value for z-score:\", threshold_Area)\n"
      ],
      "metadata": {
        "colab": {
          "base_uri": "https://localhost:8080/"
        },
        "id": "tHaN1DNkaBGr",
        "outputId": "62dfa681-a962-45c9-89e2-f8016ad05c96"
      },
      "execution_count": null,
      "outputs": [
        {
          "output_type": "stream",
          "name": "stdout",
          "text": [
            "Mean: 11848.818303269292\n",
            "Standard deviation: 46179.127840848916\n",
            "Threshold value for z-score: 90509.42740553478\n"
          ]
        }
      ]
    },
    {
      "cell_type": "code",
      "source": [
        "z_scores = np.abs((data['Area'] - data['Area'].mean()) / data['Area'].std())\n",
        "\n",
        "# Identify outliers as data points with z-score greater than a certain threshold\n",
        "threshold = threshold_Area\n",
        "outliers = data[z_scores > threshold]\n",
        "\n",
        "# Print the number of outliers\n",
        "print(f'There are {len(outliers)} outliers in the data.')"
      ],
      "metadata": {
        "colab": {
          "base_uri": "https://localhost:8080/"
        },
        "id": "klBKaK8iYUot",
        "outputId": "611480e9-3bd2-4c2d-e952-bcf8be398397"
      },
      "execution_count": null,
      "outputs": [
        {
          "output_type": "stream",
          "name": "stdout",
          "text": [
            "There are 0 outliers in the data.\n"
          ]
        }
      ]
    },
    {
      "cell_type": "markdown",
      "source": [
        "##### Yield"
      ],
      "metadata": {
        "id": "gHtDygPVqv77"
      }
    },
    {
      "cell_type": "code",
      "source": [
        "import scipy.stats as stats\n",
        "\n",
        "# Calculate the mean and standard deviation\n",
        "mean_Yield = sum(data['Yield']) / len(data['Yield'])\n",
        "stddev_Yield = stats.tstd(data['Yield'])\n",
        "\n",
        "# Set the desired significance level\n",
        "alpha = 0.05\n",
        "\n",
        "# Calculate the critical z-score for the chosen significance level\n",
        "z_critical = stats.norm.ppf(1 - alpha/2)\n",
        "\n",
        "# Calculate the threshold value for the z-score\n",
        "threshold_Yield = z_critical * stddev_Yield\n",
        "\n",
        "print(\"Mean:\", mean_Yield)\n",
        "print(\"Standard deviation:\", stddev_Yield)\n",
        "print(\"Threshold value for z-score:\", threshold_Yield)\n"
      ],
      "metadata": {
        "colab": {
          "base_uri": "https://localhost:8080/"
        },
        "id": "VQQHwXRRcQvJ",
        "outputId": "7999fc96-562f-4c21-e550-d4a26b3855f6"
      },
      "execution_count": null,
      "outputs": [
        {
          "output_type": "stream",
          "name": "stdout",
          "text": [
            "Mean: 80.84119690411208\n",
            "Standard deviation: 924.8886926128731\n",
            "Threshold value for z-score: 1812.748527229568\n"
          ]
        }
      ]
    },
    {
      "cell_type": "code",
      "source": [
        "z_scores = np.abs((data['Yield'] - data['Yield'].mean()) / data['Yield'].std())\n",
        "\n",
        "# Identify outliers as data points with z-score greater than a certain threshold\n",
        "threshold = threshold_Yield\n",
        "outliers = data[z_scores > threshold]\n",
        "\n",
        "# Print the number of outliers\n",
        "print(f'There are {len(outliers)} outliers in the data.')"
      ],
      "metadata": {
        "colab": {
          "base_uri": "https://localhost:8080/"
        },
        "id": "e919f38qcSrH",
        "outputId": "478d301a-b0e9-44cf-912e-08adeee79bce"
      },
      "execution_count": null,
      "outputs": [
        {
          "output_type": "stream",
          "name": "stdout",
          "text": [
            "There are 0 outliers in the data.\n"
          ]
        }
      ]
    },
    {
      "cell_type": "markdown",
      "source": [
        "# Model Training"
      ],
      "metadata": {
        "id": "999hQgaqevcv"
      }
    },
    {
      "cell_type": "code",
      "source": [
        "# Putting feature variable to X\n",
        "X = data.drop([\"Yield\", \"Year\"], axis= 1)\n",
        "#data.drop(columns = [\"Production\", \"Production Units\"], inplace = True)\n",
        "\n",
        "# Putting response variable to y\n",
        "y = data[['Yield']]\n",
        "\n",
        "#random_state is the seed used by the random number generator. It can be any integer.\n",
        "from sklearn.model_selection import train_test_split\n",
        "X_train, X_test, y_train, y_test =train_test_split(X, y, train_size=0.7 ,random_state=120)"
      ],
      "metadata": {
        "id": "w192c1Iub3bn"
      },
      "execution_count": null,
      "outputs": []
    },
    {
      "cell_type": "code",
      "source": [
        "print(\"X_train :\",X_train.shape)\n",
        "print(\"X_test :\",X_test.shape)\n",
        "print(\"y_train :\",y_train.shape)\n",
        "print(\"y_test :\",y_test.shape)"
      ],
      "metadata": {
        "colab": {
          "base_uri": "https://localhost:8080/"
        },
        "id": "GmmXenkXe02f",
        "outputId": "25327dc9-1cc7-4967-a890-bcc0721994e9"
      },
      "execution_count": null,
      "outputs": [
        {
          "output_type": "stream",
          "name": "stdout",
          "text": [
            "X_train : (237430, 6)\n",
            "X_test : (101757, 6)\n",
            "y_train : (237430, 1)\n",
            "y_test : (101757, 1)\n"
          ]
        }
      ]
    },
    {
      "cell_type": "code",
      "source": [
        "df_test=pd.concat([X_test,y_test],axis=1)\n",
        "\n",
        "df_test.head()"
      ],
      "metadata": {
        "colab": {
          "base_uri": "https://localhost:8080/",
          "height": 206
        },
        "id": "5APWSP6kdwNN",
        "outputId": "a5cb9e9a-425c-452f-f575-884fcfdfa0be"
      },
      "execution_count": null,
      "outputs": [
        {
          "output_type": "execute_result",
          "data": {
            "text/plain": [
              "        State  District  Crop  Season     Area  New_Production_Unit      Yield\n",
              "86087       1       365    25       2  16863.0             139676.0   8.282986\n",
              "91761       4       439    28       3    183.0                123.0   0.672131\n",
              "150078     16       673    47       4   2744.0             151194.0  55.099854\n",
              "49473       4       393    37       2    983.0                904.0   0.919634\n",
              "57533      16       128     6       4   2524.0                155.0   0.061410"
            ],
            "text/html": [
              "\n",
              "  <div id=\"df-3e34d3b7-88fe-44d8-9109-01dbfc3bb834\">\n",
              "    <div class=\"colab-df-container\">\n",
              "      <div>\n",
              "<style scoped>\n",
              "    .dataframe tbody tr th:only-of-type {\n",
              "        vertical-align: middle;\n",
              "    }\n",
              "\n",
              "    .dataframe tbody tr th {\n",
              "        vertical-align: top;\n",
              "    }\n",
              "\n",
              "    .dataframe thead th {\n",
              "        text-align: right;\n",
              "    }\n",
              "</style>\n",
              "<table border=\"1\" class=\"dataframe\">\n",
              "  <thead>\n",
              "    <tr style=\"text-align: right;\">\n",
              "      <th></th>\n",
              "      <th>State</th>\n",
              "      <th>District</th>\n",
              "      <th>Crop</th>\n",
              "      <th>Season</th>\n",
              "      <th>Area</th>\n",
              "      <th>New_Production_Unit</th>\n",
              "      <th>Yield</th>\n",
              "    </tr>\n",
              "  </thead>\n",
              "  <tbody>\n",
              "    <tr>\n",
              "      <th>86087</th>\n",
              "      <td>1</td>\n",
              "      <td>365</td>\n",
              "      <td>25</td>\n",
              "      <td>2</td>\n",
              "      <td>16863.0</td>\n",
              "      <td>139676.0</td>\n",
              "      <td>8.282986</td>\n",
              "    </tr>\n",
              "    <tr>\n",
              "      <th>91761</th>\n",
              "      <td>4</td>\n",
              "      <td>439</td>\n",
              "      <td>28</td>\n",
              "      <td>3</td>\n",
              "      <td>183.0</td>\n",
              "      <td>123.0</td>\n",
              "      <td>0.672131</td>\n",
              "    </tr>\n",
              "    <tr>\n",
              "      <th>150078</th>\n",
              "      <td>16</td>\n",
              "      <td>673</td>\n",
              "      <td>47</td>\n",
              "      <td>4</td>\n",
              "      <td>2744.0</td>\n",
              "      <td>151194.0</td>\n",
              "      <td>55.099854</td>\n",
              "    </tr>\n",
              "    <tr>\n",
              "      <th>49473</th>\n",
              "      <td>4</td>\n",
              "      <td>393</td>\n",
              "      <td>37</td>\n",
              "      <td>2</td>\n",
              "      <td>983.0</td>\n",
              "      <td>904.0</td>\n",
              "      <td>0.919634</td>\n",
              "    </tr>\n",
              "    <tr>\n",
              "      <th>57533</th>\n",
              "      <td>16</td>\n",
              "      <td>128</td>\n",
              "      <td>6</td>\n",
              "      <td>4</td>\n",
              "      <td>2524.0</td>\n",
              "      <td>155.0</td>\n",
              "      <td>0.061410</td>\n",
              "    </tr>\n",
              "  </tbody>\n",
              "</table>\n",
              "</div>\n",
              "      <button class=\"colab-df-convert\" onclick=\"convertToInteractive('df-3e34d3b7-88fe-44d8-9109-01dbfc3bb834')\"\n",
              "              title=\"Convert this dataframe to an interactive table.\"\n",
              "              style=\"display:none;\">\n",
              "        \n",
              "  <svg xmlns=\"http://www.w3.org/2000/svg\" height=\"24px\"viewBox=\"0 0 24 24\"\n",
              "       width=\"24px\">\n",
              "    <path d=\"M0 0h24v24H0V0z\" fill=\"none\"/>\n",
              "    <path d=\"M18.56 5.44l.94 2.06.94-2.06 2.06-.94-2.06-.94-.94-2.06-.94 2.06-2.06.94zm-11 1L8.5 8.5l.94-2.06 2.06-.94-2.06-.94L8.5 2.5l-.94 2.06-2.06.94zm10 10l.94 2.06.94-2.06 2.06-.94-2.06-.94-.94-2.06-.94 2.06-2.06.94z\"/><path d=\"M17.41 7.96l-1.37-1.37c-.4-.4-.92-.59-1.43-.59-.52 0-1.04.2-1.43.59L10.3 9.45l-7.72 7.72c-.78.78-.78 2.05 0 2.83L4 21.41c.39.39.9.59 1.41.59.51 0 1.02-.2 1.41-.59l7.78-7.78 2.81-2.81c.8-.78.8-2.07 0-2.86zM5.41 20L4 18.59l7.72-7.72 1.47 1.35L5.41 20z\"/>\n",
              "  </svg>\n",
              "      </button>\n",
              "      \n",
              "  <style>\n",
              "    .colab-df-container {\n",
              "      display:flex;\n",
              "      flex-wrap:wrap;\n",
              "      gap: 12px;\n",
              "    }\n",
              "\n",
              "    .colab-df-convert {\n",
              "      background-color: #E8F0FE;\n",
              "      border: none;\n",
              "      border-radius: 50%;\n",
              "      cursor: pointer;\n",
              "      display: none;\n",
              "      fill: #1967D2;\n",
              "      height: 32px;\n",
              "      padding: 0 0 0 0;\n",
              "      width: 32px;\n",
              "    }\n",
              "\n",
              "    .colab-df-convert:hover {\n",
              "      background-color: #E2EBFA;\n",
              "      box-shadow: 0px 1px 2px rgba(60, 64, 67, 0.3), 0px 1px 3px 1px rgba(60, 64, 67, 0.15);\n",
              "      fill: #174EA6;\n",
              "    }\n",
              "\n",
              "    [theme=dark] .colab-df-convert {\n",
              "      background-color: #3B4455;\n",
              "      fill: #D2E3FC;\n",
              "    }\n",
              "\n",
              "    [theme=dark] .colab-df-convert:hover {\n",
              "      background-color: #434B5C;\n",
              "      box-shadow: 0px 1px 3px 1px rgba(0, 0, 0, 0.15);\n",
              "      filter: drop-shadow(0px 1px 2px rgba(0, 0, 0, 0.3));\n",
              "      fill: #FFFFFF;\n",
              "    }\n",
              "  </style>\n",
              "\n",
              "      <script>\n",
              "        const buttonEl =\n",
              "          document.querySelector('#df-3e34d3b7-88fe-44d8-9109-01dbfc3bb834 button.colab-df-convert');\n",
              "        buttonEl.style.display =\n",
              "          google.colab.kernel.accessAllowed ? 'block' : 'none';\n",
              "\n",
              "        async function convertToInteractive(key) {\n",
              "          const element = document.querySelector('#df-3e34d3b7-88fe-44d8-9109-01dbfc3bb834');\n",
              "          const dataTable =\n",
              "            await google.colab.kernel.invokeFunction('convertToInteractive',\n",
              "                                                     [key], {});\n",
              "          if (!dataTable) return;\n",
              "\n",
              "          const docLinkHtml = 'Like what you see? Visit the ' +\n",
              "            '<a target=\"_blank\" href=https://colab.research.google.com/notebooks/data_table.ipynb>data table notebook</a>'\n",
              "            + ' to learn more about interactive tables.';\n",
              "          element.innerHTML = '';\n",
              "          dataTable['output_type'] = 'display_data';\n",
              "          await google.colab.output.renderOutput(dataTable, element);\n",
              "          const docLink = document.createElement('div');\n",
              "          docLink.innerHTML = docLinkHtml;\n",
              "          element.appendChild(docLink);\n",
              "        }\n",
              "      </script>\n",
              "    </div>\n",
              "  </div>\n",
              "  "
            ]
          },
          "metadata": {},
          "execution_count": 133
        }
      ]
    },
    {
      "cell_type": "markdown",
      "source": [
        "## Linear Regression"
      ],
      "metadata": {
        "id": "iO0jnYNLrOJl"
      }
    },
    {
      "cell_type": "code",
      "source": [
        "model_LR = LinearRegression()\n",
        "model_LR.fit(X_train,y_train)\n",
        "LR_pred = model_LR.predict(X_test)"
      ],
      "metadata": {
        "id": "tyAQioBxdJU4"
      },
      "execution_count": null,
      "outputs": []
    },
    {
      "cell_type": "code",
      "source": [
        "r1 = r2_score(y_test,LR_pred)\n",
        "print(\"Linear Regression r2 Score \",r1)"
      ],
      "metadata": {
        "colab": {
          "base_uri": "https://localhost:8080/"
        },
        "id": "F5PnZ96geM2H",
        "outputId": "1c0f78ee-9652-4ed7-b5ce-cb2880cad6f9"
      },
      "execution_count": null,
      "outputs": [
        {
          "output_type": "stream",
          "name": "stdout",
          "text": [
            "Linear Regression r2 Score  0.1352036210892399\n"
          ]
        }
      ]
    },
    {
      "cell_type": "code",
      "source": [
        "df_test['LR_Prediction']=LR_pred\n",
        "df_test.head()"
      ],
      "metadata": {
        "colab": {
          "base_uri": "https://localhost:8080/",
          "height": 206
        },
        "id": "Hl0MyutyeM5E",
        "outputId": "c067487b-6f9c-490a-beea-d30d25ceb279"
      },
      "execution_count": null,
      "outputs": [
        {
          "output_type": "execute_result",
          "data": {
            "text/plain": [
              "        State  District  Crop  Season     Area  New_Production_Unit  \\\n",
              "86087       1       365    25       2  16863.0             139676.0   \n",
              "91761       4       439    28       3    183.0                123.0   \n",
              "150078     16       673    47       4   2744.0             151194.0   \n",
              "49473       4       393    37       2    983.0                904.0   \n",
              "57533      16       128     6       4   2524.0                155.0   \n",
              "\n",
              "            Yield  LR Prediction  \n",
              "86087    8.282986     144.291617  \n",
              "91761    0.672131     148.049590  \n",
              "150078  55.099854     178.806359  \n",
              "49473    0.919634       6.468899  \n",
              "57533    0.061410     370.465068  "
            ],
            "text/html": [
              "\n",
              "  <div id=\"df-2ee438ea-7107-4958-aca1-4bf41caa2040\">\n",
              "    <div class=\"colab-df-container\">\n",
              "      <div>\n",
              "<style scoped>\n",
              "    .dataframe tbody tr th:only-of-type {\n",
              "        vertical-align: middle;\n",
              "    }\n",
              "\n",
              "    .dataframe tbody tr th {\n",
              "        vertical-align: top;\n",
              "    }\n",
              "\n",
              "    .dataframe thead th {\n",
              "        text-align: right;\n",
              "    }\n",
              "</style>\n",
              "<table border=\"1\" class=\"dataframe\">\n",
              "  <thead>\n",
              "    <tr style=\"text-align: right;\">\n",
              "      <th></th>\n",
              "      <th>State</th>\n",
              "      <th>District</th>\n",
              "      <th>Crop</th>\n",
              "      <th>Season</th>\n",
              "      <th>Area</th>\n",
              "      <th>New_Production_Unit</th>\n",
              "      <th>Yield</th>\n",
              "      <th>LR Prediction</th>\n",
              "    </tr>\n",
              "  </thead>\n",
              "  <tbody>\n",
              "    <tr>\n",
              "      <th>86087</th>\n",
              "      <td>1</td>\n",
              "      <td>365</td>\n",
              "      <td>25</td>\n",
              "      <td>2</td>\n",
              "      <td>16863.0</td>\n",
              "      <td>139676.0</td>\n",
              "      <td>8.282986</td>\n",
              "      <td>144.291617</td>\n",
              "    </tr>\n",
              "    <tr>\n",
              "      <th>91761</th>\n",
              "      <td>4</td>\n",
              "      <td>439</td>\n",
              "      <td>28</td>\n",
              "      <td>3</td>\n",
              "      <td>183.0</td>\n",
              "      <td>123.0</td>\n",
              "      <td>0.672131</td>\n",
              "      <td>148.049590</td>\n",
              "    </tr>\n",
              "    <tr>\n",
              "      <th>150078</th>\n",
              "      <td>16</td>\n",
              "      <td>673</td>\n",
              "      <td>47</td>\n",
              "      <td>4</td>\n",
              "      <td>2744.0</td>\n",
              "      <td>151194.0</td>\n",
              "      <td>55.099854</td>\n",
              "      <td>178.806359</td>\n",
              "    </tr>\n",
              "    <tr>\n",
              "      <th>49473</th>\n",
              "      <td>4</td>\n",
              "      <td>393</td>\n",
              "      <td>37</td>\n",
              "      <td>2</td>\n",
              "      <td>983.0</td>\n",
              "      <td>904.0</td>\n",
              "      <td>0.919634</td>\n",
              "      <td>6.468899</td>\n",
              "    </tr>\n",
              "    <tr>\n",
              "      <th>57533</th>\n",
              "      <td>16</td>\n",
              "      <td>128</td>\n",
              "      <td>6</td>\n",
              "      <td>4</td>\n",
              "      <td>2524.0</td>\n",
              "      <td>155.0</td>\n",
              "      <td>0.061410</td>\n",
              "      <td>370.465068</td>\n",
              "    </tr>\n",
              "  </tbody>\n",
              "</table>\n",
              "</div>\n",
              "      <button class=\"colab-df-convert\" onclick=\"convertToInteractive('df-2ee438ea-7107-4958-aca1-4bf41caa2040')\"\n",
              "              title=\"Convert this dataframe to an interactive table.\"\n",
              "              style=\"display:none;\">\n",
              "        \n",
              "  <svg xmlns=\"http://www.w3.org/2000/svg\" height=\"24px\"viewBox=\"0 0 24 24\"\n",
              "       width=\"24px\">\n",
              "    <path d=\"M0 0h24v24H0V0z\" fill=\"none\"/>\n",
              "    <path d=\"M18.56 5.44l.94 2.06.94-2.06 2.06-.94-2.06-.94-.94-2.06-.94 2.06-2.06.94zm-11 1L8.5 8.5l.94-2.06 2.06-.94-2.06-.94L8.5 2.5l-.94 2.06-2.06.94zm10 10l.94 2.06.94-2.06 2.06-.94-2.06-.94-.94-2.06-.94 2.06-2.06.94z\"/><path d=\"M17.41 7.96l-1.37-1.37c-.4-.4-.92-.59-1.43-.59-.52 0-1.04.2-1.43.59L10.3 9.45l-7.72 7.72c-.78.78-.78 2.05 0 2.83L4 21.41c.39.39.9.59 1.41.59.51 0 1.02-.2 1.41-.59l7.78-7.78 2.81-2.81c.8-.78.8-2.07 0-2.86zM5.41 20L4 18.59l7.72-7.72 1.47 1.35L5.41 20z\"/>\n",
              "  </svg>\n",
              "      </button>\n",
              "      \n",
              "  <style>\n",
              "    .colab-df-container {\n",
              "      display:flex;\n",
              "      flex-wrap:wrap;\n",
              "      gap: 12px;\n",
              "    }\n",
              "\n",
              "    .colab-df-convert {\n",
              "      background-color: #E8F0FE;\n",
              "      border: none;\n",
              "      border-radius: 50%;\n",
              "      cursor: pointer;\n",
              "      display: none;\n",
              "      fill: #1967D2;\n",
              "      height: 32px;\n",
              "      padding: 0 0 0 0;\n",
              "      width: 32px;\n",
              "    }\n",
              "\n",
              "    .colab-df-convert:hover {\n",
              "      background-color: #E2EBFA;\n",
              "      box-shadow: 0px 1px 2px rgba(60, 64, 67, 0.3), 0px 1px 3px 1px rgba(60, 64, 67, 0.15);\n",
              "      fill: #174EA6;\n",
              "    }\n",
              "\n",
              "    [theme=dark] .colab-df-convert {\n",
              "      background-color: #3B4455;\n",
              "      fill: #D2E3FC;\n",
              "    }\n",
              "\n",
              "    [theme=dark] .colab-df-convert:hover {\n",
              "      background-color: #434B5C;\n",
              "      box-shadow: 0px 1px 3px 1px rgba(0, 0, 0, 0.15);\n",
              "      filter: drop-shadow(0px 1px 2px rgba(0, 0, 0, 0.3));\n",
              "      fill: #FFFFFF;\n",
              "    }\n",
              "  </style>\n",
              "\n",
              "      <script>\n",
              "        const buttonEl =\n",
              "          document.querySelector('#df-2ee438ea-7107-4958-aca1-4bf41caa2040 button.colab-df-convert');\n",
              "        buttonEl.style.display =\n",
              "          google.colab.kernel.accessAllowed ? 'block' : 'none';\n",
              "\n",
              "        async function convertToInteractive(key) {\n",
              "          const element = document.querySelector('#df-2ee438ea-7107-4958-aca1-4bf41caa2040');\n",
              "          const dataTable =\n",
              "            await google.colab.kernel.invokeFunction('convertToInteractive',\n",
              "                                                     [key], {});\n",
              "          if (!dataTable) return;\n",
              "\n",
              "          const docLinkHtml = 'Like what you see? Visit the ' +\n",
              "            '<a target=\"_blank\" href=https://colab.research.google.com/notebooks/data_table.ipynb>data table notebook</a>'\n",
              "            + ' to learn more about interactive tables.';\n",
              "          element.innerHTML = '';\n",
              "          dataTable['output_type'] = 'display_data';\n",
              "          await google.colab.output.renderOutput(dataTable, element);\n",
              "          const docLink = document.createElement('div');\n",
              "          docLink.innerHTML = docLinkHtml;\n",
              "          element.appendChild(docLink);\n",
              "        }\n",
              "      </script>\n",
              "    </div>\n",
              "  </div>\n",
              "  "
            ]
          },
          "metadata": {},
          "execution_count": 136
        }
      ]
    },
    {
      "cell_type": "markdown",
      "source": [
        "## Decision Tree"
      ],
      "metadata": {
        "id": "5MmVQ-skrtAM"
      }
    },
    {
      "cell_type": "code",
      "source": [
        "model_DT = RandomForestRegressor()\n",
        "model_DT.fit(X_train,y_train)\n",
        "DT_pred = model_DT.predict(X_test)"
      ],
      "metadata": {
        "id": "ytg38DxbgT_R",
        "colab": {
          "base_uri": "https://localhost:8080/"
        },
        "outputId": "ed13673c-8c11-4b5a-bb49-88a482987fa4"
      },
      "execution_count": null,
      "outputs": [
        {
          "output_type": "stream",
          "name": "stderr",
          "text": [
            "<ipython-input-137-3b376b2c39ec>:2: DataConversionWarning: A column-vector y was passed when a 1d array was expected. Please change the shape of y to (n_samples,), for example using ravel().\n",
            "  model_DT.fit(X_train,y_train)\n"
          ]
        }
      ]
    },
    {
      "cell_type": "code",
      "source": [
        "r2 = r2_score(y_test,DT_pred)\n",
        "print(\"Randomn forest r2 Score \",r2)"
      ],
      "metadata": {
        "colab": {
          "base_uri": "https://localhost:8080/"
        },
        "id": "AVAbbLUur6W3",
        "outputId": "0d736706-e0a8-4c1d-e8b9-3c6f8644a1e0"
      },
      "execution_count": null,
      "outputs": [
        {
          "output_type": "stream",
          "name": "stdout",
          "text": [
            "Randomn forest r2 Score  0.9740760760589251\n"
          ]
        }
      ]
    },
    {
      "cell_type": "code",
      "source": [
        "df_test['DT_Prediction']=DT_pred\n",
        "df_test.head()"
      ],
      "metadata": {
        "colab": {
          "base_uri": "https://localhost:8080/",
          "height": 206
        },
        "id": "mumDmQAntBwP",
        "outputId": "c28dea3d-7171-4bc3-c6c4-1c58da2ad2bc"
      },
      "execution_count": null,
      "outputs": [
        {
          "output_type": "execute_result",
          "data": {
            "text/plain": [
              "        State  District  Crop  Season     Area  New_Production_Unit  \\\n",
              "86087       1       365    25       2  16863.0             139676.0   \n",
              "91761       4       439    28       3    183.0                123.0   \n",
              "150078     16       673    47       4   2744.0             151194.0   \n",
              "49473       4       393    37       2    983.0                904.0   \n",
              "57533      16       128     6       4   2524.0                155.0   \n",
              "\n",
              "            Yield  LR Prediction  DT_Prediction  \n",
              "86087    8.282986     144.291617       8.335232  \n",
              "91761    0.672131     148.049590       0.667615  \n",
              "150078  55.099854     178.806359      57.172134  \n",
              "49473    0.919634       6.468899       0.926881  \n",
              "57533    0.061410     370.465068       0.062308  "
            ],
            "text/html": [
              "\n",
              "  <div id=\"df-feb20a76-4531-4d07-a759-4b4a4a80488f\">\n",
              "    <div class=\"colab-df-container\">\n",
              "      <div>\n",
              "<style scoped>\n",
              "    .dataframe tbody tr th:only-of-type {\n",
              "        vertical-align: middle;\n",
              "    }\n",
              "\n",
              "    .dataframe tbody tr th {\n",
              "        vertical-align: top;\n",
              "    }\n",
              "\n",
              "    .dataframe thead th {\n",
              "        text-align: right;\n",
              "    }\n",
              "</style>\n",
              "<table border=\"1\" class=\"dataframe\">\n",
              "  <thead>\n",
              "    <tr style=\"text-align: right;\">\n",
              "      <th></th>\n",
              "      <th>State</th>\n",
              "      <th>District</th>\n",
              "      <th>Crop</th>\n",
              "      <th>Season</th>\n",
              "      <th>Area</th>\n",
              "      <th>New_Production_Unit</th>\n",
              "      <th>Yield</th>\n",
              "      <th>LR Prediction</th>\n",
              "      <th>DT_Prediction</th>\n",
              "    </tr>\n",
              "  </thead>\n",
              "  <tbody>\n",
              "    <tr>\n",
              "      <th>86087</th>\n",
              "      <td>1</td>\n",
              "      <td>365</td>\n",
              "      <td>25</td>\n",
              "      <td>2</td>\n",
              "      <td>16863.0</td>\n",
              "      <td>139676.0</td>\n",
              "      <td>8.282986</td>\n",
              "      <td>144.291617</td>\n",
              "      <td>8.335232</td>\n",
              "    </tr>\n",
              "    <tr>\n",
              "      <th>91761</th>\n",
              "      <td>4</td>\n",
              "      <td>439</td>\n",
              "      <td>28</td>\n",
              "      <td>3</td>\n",
              "      <td>183.0</td>\n",
              "      <td>123.0</td>\n",
              "      <td>0.672131</td>\n",
              "      <td>148.049590</td>\n",
              "      <td>0.667615</td>\n",
              "    </tr>\n",
              "    <tr>\n",
              "      <th>150078</th>\n",
              "      <td>16</td>\n",
              "      <td>673</td>\n",
              "      <td>47</td>\n",
              "      <td>4</td>\n",
              "      <td>2744.0</td>\n",
              "      <td>151194.0</td>\n",
              "      <td>55.099854</td>\n",
              "      <td>178.806359</td>\n",
              "      <td>57.172134</td>\n",
              "    </tr>\n",
              "    <tr>\n",
              "      <th>49473</th>\n",
              "      <td>4</td>\n",
              "      <td>393</td>\n",
              "      <td>37</td>\n",
              "      <td>2</td>\n",
              "      <td>983.0</td>\n",
              "      <td>904.0</td>\n",
              "      <td>0.919634</td>\n",
              "      <td>6.468899</td>\n",
              "      <td>0.926881</td>\n",
              "    </tr>\n",
              "    <tr>\n",
              "      <th>57533</th>\n",
              "      <td>16</td>\n",
              "      <td>128</td>\n",
              "      <td>6</td>\n",
              "      <td>4</td>\n",
              "      <td>2524.0</td>\n",
              "      <td>155.0</td>\n",
              "      <td>0.061410</td>\n",
              "      <td>370.465068</td>\n",
              "      <td>0.062308</td>\n",
              "    </tr>\n",
              "  </tbody>\n",
              "</table>\n",
              "</div>\n",
              "      <button class=\"colab-df-convert\" onclick=\"convertToInteractive('df-feb20a76-4531-4d07-a759-4b4a4a80488f')\"\n",
              "              title=\"Convert this dataframe to an interactive table.\"\n",
              "              style=\"display:none;\">\n",
              "        \n",
              "  <svg xmlns=\"http://www.w3.org/2000/svg\" height=\"24px\"viewBox=\"0 0 24 24\"\n",
              "       width=\"24px\">\n",
              "    <path d=\"M0 0h24v24H0V0z\" fill=\"none\"/>\n",
              "    <path d=\"M18.56 5.44l.94 2.06.94-2.06 2.06-.94-2.06-.94-.94-2.06-.94 2.06-2.06.94zm-11 1L8.5 8.5l.94-2.06 2.06-.94-2.06-.94L8.5 2.5l-.94 2.06-2.06.94zm10 10l.94 2.06.94-2.06 2.06-.94-2.06-.94-.94-2.06-.94 2.06-2.06.94z\"/><path d=\"M17.41 7.96l-1.37-1.37c-.4-.4-.92-.59-1.43-.59-.52 0-1.04.2-1.43.59L10.3 9.45l-7.72 7.72c-.78.78-.78 2.05 0 2.83L4 21.41c.39.39.9.59 1.41.59.51 0 1.02-.2 1.41-.59l7.78-7.78 2.81-2.81c.8-.78.8-2.07 0-2.86zM5.41 20L4 18.59l7.72-7.72 1.47 1.35L5.41 20z\"/>\n",
              "  </svg>\n",
              "      </button>\n",
              "      \n",
              "  <style>\n",
              "    .colab-df-container {\n",
              "      display:flex;\n",
              "      flex-wrap:wrap;\n",
              "      gap: 12px;\n",
              "    }\n",
              "\n",
              "    .colab-df-convert {\n",
              "      background-color: #E8F0FE;\n",
              "      border: none;\n",
              "      border-radius: 50%;\n",
              "      cursor: pointer;\n",
              "      display: none;\n",
              "      fill: #1967D2;\n",
              "      height: 32px;\n",
              "      padding: 0 0 0 0;\n",
              "      width: 32px;\n",
              "    }\n",
              "\n",
              "    .colab-df-convert:hover {\n",
              "      background-color: #E2EBFA;\n",
              "      box-shadow: 0px 1px 2px rgba(60, 64, 67, 0.3), 0px 1px 3px 1px rgba(60, 64, 67, 0.15);\n",
              "      fill: #174EA6;\n",
              "    }\n",
              "\n",
              "    [theme=dark] .colab-df-convert {\n",
              "      background-color: #3B4455;\n",
              "      fill: #D2E3FC;\n",
              "    }\n",
              "\n",
              "    [theme=dark] .colab-df-convert:hover {\n",
              "      background-color: #434B5C;\n",
              "      box-shadow: 0px 1px 3px 1px rgba(0, 0, 0, 0.15);\n",
              "      filter: drop-shadow(0px 1px 2px rgba(0, 0, 0, 0.3));\n",
              "      fill: #FFFFFF;\n",
              "    }\n",
              "  </style>\n",
              "\n",
              "      <script>\n",
              "        const buttonEl =\n",
              "          document.querySelector('#df-feb20a76-4531-4d07-a759-4b4a4a80488f button.colab-df-convert');\n",
              "        buttonEl.style.display =\n",
              "          google.colab.kernel.accessAllowed ? 'block' : 'none';\n",
              "\n",
              "        async function convertToInteractive(key) {\n",
              "          const element = document.querySelector('#df-feb20a76-4531-4d07-a759-4b4a4a80488f');\n",
              "          const dataTable =\n",
              "            await google.colab.kernel.invokeFunction('convertToInteractive',\n",
              "                                                     [key], {});\n",
              "          if (!dataTable) return;\n",
              "\n",
              "          const docLinkHtml = 'Like what you see? Visit the ' +\n",
              "            '<a target=\"_blank\" href=https://colab.research.google.com/notebooks/data_table.ipynb>data table notebook</a>'\n",
              "            + ' to learn more about interactive tables.';\n",
              "          element.innerHTML = '';\n",
              "          dataTable['output_type'] = 'display_data';\n",
              "          await google.colab.output.renderOutput(dataTable, element);\n",
              "          const docLink = document.createElement('div');\n",
              "          docLink.innerHTML = docLinkHtml;\n",
              "          element.appendChild(docLink);\n",
              "        }\n",
              "      </script>\n",
              "    </div>\n",
              "  </div>\n",
              "  "
            ]
          },
          "metadata": {},
          "execution_count": 139
        }
      ]
    },
    {
      "cell_type": "code",
      "source": [],
      "metadata": {
        "id": "OHvQhky4tEhJ"
      },
      "execution_count": null,
      "outputs": []
    }
  ]
}